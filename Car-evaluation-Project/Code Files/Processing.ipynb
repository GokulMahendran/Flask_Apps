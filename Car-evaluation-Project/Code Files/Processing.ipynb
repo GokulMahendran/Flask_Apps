{
  "nbformat": 4,
  "nbformat_minor": 0,
  "metadata": {
    "colab": {
      "name": "processing.ipynb",
      "provenance": [],
      "collapsed_sections": []
    },
    "kernelspec": {
      "name": "python3",
      "display_name": "Python 3"
    }
  },
  "cells": [
    {
      "cell_type": "code",
      "metadata": {
        "id": "sI-wgcELOrYi",
        "colab_type": "code",
        "colab": {}
      },
      "source": [
        "import numpy as np\n",
        "import pandas as pd\n",
        "import warnings\n",
        "warnings.simplefilter(\"ignore\")"
      ],
      "execution_count": null,
      "outputs": []
    },
    {
      "cell_type": "code",
      "metadata": {
        "id": "ebkTMow8NsQh",
        "colab_type": "code",
        "colab": {}
      },
      "source": [
        "df=pd.read_csv(\"/content/drive/My Drive/car_project/final_autoportal.csv\")"
      ],
      "execution_count": null,
      "outputs": []
    },
    {
      "cell_type": "code",
      "metadata": {
        "id": "GSIMuM_VOsZY",
        "colab_type": "code",
        "colab": {
          "base_uri": "https://localhost:8080/",
          "height": 198
        },
        "outputId": "6afc07a9-9c2c-4cce-eb68-51edd8f30a16"
      },
      "source": [
        "df.head()"
      ],
      "execution_count": null,
      "outputs": [
        {
          "output_type": "execute_result",
          "data": {
            "text/html": [
              "<div>\n",
              "<style scoped>\n",
              "    .dataframe tbody tr th:only-of-type {\n",
              "        vertical-align: middle;\n",
              "    }\n",
              "\n",
              "    .dataframe tbody tr th {\n",
              "        vertical-align: top;\n",
              "    }\n",
              "\n",
              "    .dataframe thead th {\n",
              "        text-align: right;\n",
              "    }\n",
              "</style>\n",
              "<table border=\"1\" class=\"dataframe\">\n",
              "  <thead>\n",
              "    <tr style=\"text-align: right;\">\n",
              "      <th></th>\n",
              "      <th>brand</th>\n",
              "      <th>model</th>\n",
              "      <th>variant</th>\n",
              "      <th>price</th>\n",
              "      <th>km_driven</th>\n",
              "      <th>fuel_type</th>\n",
              "      <th>owner</th>\n",
              "      <th>city</th>\n",
              "      <th>year</th>\n",
              "      <th>transmission</th>\n",
              "    </tr>\n",
              "  </thead>\n",
              "  <tbody>\n",
              "    <tr>\n",
              "      <th>0</th>\n",
              "      <td>Hyundai</td>\n",
              "      <td>Grand i10</td>\n",
              "      <td>Magna</td>\n",
              "      <td>345000</td>\n",
              "      <td>46983</td>\n",
              "      <td>Petrol</td>\n",
              "      <td>1</td>\n",
              "      <td>Pune</td>\n",
              "      <td>2014</td>\n",
              "      <td>Manual</td>\n",
              "    </tr>\n",
              "    <tr>\n",
              "      <th>1</th>\n",
              "      <td>Hyundai</td>\n",
              "      <td>Elite i20</td>\n",
              "      <td>Sportz 1.4</td>\n",
              "      <td>532000</td>\n",
              "      <td>59731</td>\n",
              "      <td>Diesel</td>\n",
              "      <td>1</td>\n",
              "      <td>New Delhi</td>\n",
              "      <td>2015</td>\n",
              "      <td>Manual</td>\n",
              "    </tr>\n",
              "    <tr>\n",
              "      <th>2</th>\n",
              "      <td>Maruti Suzuki</td>\n",
              "      <td>Wagon R</td>\n",
              "      <td>VXi</td>\n",
              "      <td>425000</td>\n",
              "      <td>28316</td>\n",
              "      <td>Petrol</td>\n",
              "      <td>1</td>\n",
              "      <td>Bangalore</td>\n",
              "      <td>2017</td>\n",
              "      <td>Manual</td>\n",
              "    </tr>\n",
              "    <tr>\n",
              "      <th>3</th>\n",
              "      <td>Nissan</td>\n",
              "      <td>Micra Active</td>\n",
              "      <td>XV</td>\n",
              "      <td>353000</td>\n",
              "      <td>59817</td>\n",
              "      <td>Petrol</td>\n",
              "      <td>1</td>\n",
              "      <td>Bangalore</td>\n",
              "      <td>2014</td>\n",
              "      <td>Manual</td>\n",
              "    </tr>\n",
              "    <tr>\n",
              "      <th>4</th>\n",
              "      <td>Hyundai</td>\n",
              "      <td>Elite i20</td>\n",
              "      <td>Sportz 1.2</td>\n",
              "      <td>605000</td>\n",
              "      <td>38550</td>\n",
              "      <td>Petrol</td>\n",
              "      <td>1</td>\n",
              "      <td>Bangalore</td>\n",
              "      <td>2015</td>\n",
              "      <td>Manual</td>\n",
              "    </tr>\n",
              "  </tbody>\n",
              "</table>\n",
              "</div>"
            ],
            "text/plain": [
              "           brand         model     variant  ...       city  year transmission\n",
              "0        Hyundai     Grand i10       Magna  ...       Pune  2014       Manual\n",
              "1        Hyundai    Elite i20   Sportz 1.4  ...  New Delhi  2015       Manual\n",
              "2  Maruti Suzuki       Wagon R         VXi  ...  Bangalore  2017       Manual\n",
              "3         Nissan  Micra Active          XV  ...  Bangalore  2014       Manual\n",
              "4        Hyundai    Elite i20   Sportz 1.2  ...  Bangalore  2015       Manual\n",
              "\n",
              "[5 rows x 10 columns]"
            ]
          },
          "metadata": {
            "tags": []
          },
          "execution_count": 142
        }
      ]
    },
    {
      "cell_type": "code",
      "metadata": {
        "id": "_sSgwJ2PPfEt",
        "colab_type": "code",
        "colab": {
          "base_uri": "https://localhost:8080/",
          "height": 35
        },
        "outputId": "841b0fab-db4c-4904-c09c-9df57a862f17"
      },
      "source": [
        "df.shape"
      ],
      "execution_count": null,
      "outputs": [
        {
          "output_type": "execute_result",
          "data": {
            "text/plain": [
              "(14310, 10)"
            ]
          },
          "metadata": {
            "tags": []
          },
          "execution_count": 143
        }
      ]
    },
    {
      "cell_type": "code",
      "metadata": {
        "id": "R2rfbH-qRkn1",
        "colab_type": "code",
        "colab": {}
      },
      "source": [
        "cars24=pd.read_csv(\"/content/drive/My Drive/car_project/final_new.csv\",index_col=0)"
      ],
      "execution_count": null,
      "outputs": []
    },
    {
      "cell_type": "code",
      "metadata": {
        "id": "5mSJJig4pIWC",
        "colab_type": "code",
        "colab": {
          "base_uri": "https://localhost:8080/",
          "height": 198
        },
        "outputId": "14dd57f2-ed7a-4726-cbc1-b37e2c27571b"
      },
      "source": [
        "cars24.head()"
      ],
      "execution_count": null,
      "outputs": [
        {
          "output_type": "execute_result",
          "data": {
            "text/html": [
              "<div>\n",
              "<style scoped>\n",
              "    .dataframe tbody tr th:only-of-type {\n",
              "        vertical-align: middle;\n",
              "    }\n",
              "\n",
              "    .dataframe tbody tr th {\n",
              "        vertical-align: top;\n",
              "    }\n",
              "\n",
              "    .dataframe thead th {\n",
              "        text-align: right;\n",
              "    }\n",
              "</style>\n",
              "<table border=\"1\" class=\"dataframe\">\n",
              "  <thead>\n",
              "    <tr style=\"text-align: right;\">\n",
              "      <th></th>\n",
              "      <th>variant</th>\n",
              "      <th>price</th>\n",
              "      <th>Year</th>\n",
              "      <th>Kms Driven</th>\n",
              "      <th>Fuel Type</th>\n",
              "      <th>Owner</th>\n",
              "      <th>Transmission</th>\n",
              "      <th>city</th>\n",
              "      <th>car_name</th>\n",
              "    </tr>\n",
              "  </thead>\n",
              "  <tbody>\n",
              "    <tr>\n",
              "      <th>0</th>\n",
              "      <td>Maruti Ertiga ZDI</td>\n",
              "      <td>454,675</td>\n",
              "      <td>2012</td>\n",
              "      <td>98,284</td>\n",
              "      <td>Diesel</td>\n",
              "      <td>First</td>\n",
              "      <td>Manual</td>\n",
              "      <td>delhi-ncr</td>\n",
              "      <td>Maruti Ertiga</td>\n",
              "    </tr>\n",
              "    <tr>\n",
              "      <th>1</th>\n",
              "      <td>Maruti Ciaz VXI PLUS</td>\n",
              "      <td>658,520</td>\n",
              "      <td>2015</td>\n",
              "      <td>11,600</td>\n",
              "      <td>Petrol</td>\n",
              "      <td>First</td>\n",
              "      <td>Manual</td>\n",
              "      <td>delhi-ncr</td>\n",
              "      <td>Maruti Ciaz</td>\n",
              "    </tr>\n",
              "    <tr>\n",
              "      <th>2</th>\n",
              "      <td>Maruti Swift VDI</td>\n",
              "      <td>220,366</td>\n",
              "      <td>2011</td>\n",
              "      <td>75,829</td>\n",
              "      <td>Diesel</td>\n",
              "      <td>First</td>\n",
              "      <td>Manual</td>\n",
              "      <td>delhi-ncr</td>\n",
              "      <td>Maruti Swift</td>\n",
              "    </tr>\n",
              "    <tr>\n",
              "      <th>3</th>\n",
              "      <td>Maruti Ertiga ZDI</td>\n",
              "      <td>454,675</td>\n",
              "      <td>2012</td>\n",
              "      <td>98,284</td>\n",
              "      <td>Diesel</td>\n",
              "      <td>First</td>\n",
              "      <td>Manual</td>\n",
              "      <td>delhi-ncr</td>\n",
              "      <td>Maruti Ertiga</td>\n",
              "    </tr>\n",
              "    <tr>\n",
              "      <th>4</th>\n",
              "      <td>Maruti Swift Dzire VXI 1.3</td>\n",
              "      <td>257,084</td>\n",
              "      <td>2009</td>\n",
              "      <td>75,753</td>\n",
              "      <td>Petrol</td>\n",
              "      <td>First</td>\n",
              "      <td>Manual</td>\n",
              "      <td>delhi-ncr</td>\n",
              "      <td>Maruti Swift Dzire</td>\n",
              "    </tr>\n",
              "  </tbody>\n",
              "</table>\n",
              "</div>"
            ],
            "text/plain": [
              "                      variant    price  ...       city            car_name\n",
              "0           Maruti Ertiga ZDI  454,675  ...  delhi-ncr       Maruti Ertiga\n",
              "1        Maruti Ciaz VXI PLUS  658,520  ...  delhi-ncr         Maruti Ciaz\n",
              "2            Maruti Swift VDI  220,366  ...  delhi-ncr        Maruti Swift\n",
              "3           Maruti Ertiga ZDI  454,675  ...  delhi-ncr       Maruti Ertiga\n",
              "4  Maruti Swift Dzire VXI 1.3  257,084  ...  delhi-ncr  Maruti Swift Dzire\n",
              "\n",
              "[5 rows x 9 columns]"
            ]
          },
          "metadata": {
            "tags": []
          },
          "execution_count": 145
        }
      ]
    },
    {
      "cell_type": "code",
      "metadata": {
        "id": "ozWHJvsvjJOq",
        "colab_type": "code",
        "colab": {}
      },
      "source": [
        "cars24[\"brand\"]=cars24[\"variant\"].apply(lambda x:x.split()[0] if x.split()[0] not in [\"Mercedes\",\"Ashok\",\"Hindustan\"] else x.split()[0]+\" \"+x.split()[1])"
      ],
      "execution_count": null,
      "outputs": []
    },
    {
      "cell_type": "code",
      "metadata": {
        "id": "9zo5t7yVhUky",
        "colab_type": "code",
        "colab": {
          "base_uri": "https://localhost:8080/",
          "height": 90
        },
        "outputId": "a04bdad6-22fb-46b7-8b9a-665ba4daff89"
      },
      "source": [
        "data=df[df[\"brand\"]==\"Fiat\"]\n",
        "print(data.shape)\n",
        "print(data[\"model\"].unique())\n",
        "#data[\"model\"]=data[\"variant\"].apply(lambda x:x.split()[1])\n",
        "#data[data[\"model\"]==\"Palio\"][\"variant\"].apply(lambda x:x.split()[2]).unique()"
      ],
      "execution_count": null,
      "outputs": [
        {
          "output_type": "stream",
          "text": [
            "(111, 10)\n",
            "['Linea' 'Punto Evo' 'Avventura' 'Linea [2008-2011]' 'Linea Classic'\n",
            " 'Punto [2011-2014]' 'Punto [2009-2011]' 'Grande Punto (2005 - 2013)'\n",
            " 'Linea [2012-2014]' 'Palio Stile' 'Palio']\n"
          ],
          "name": "stdout"
        }
      ]
    },
    {
      "cell_type": "code",
      "metadata": {
        "id": "aSuqfzdmjbZq",
        "colab_type": "code",
        "colab": {
          "base_uri": "https://localhost:8080/",
          "height": 108
        },
        "outputId": "6fcbaab6-0e89-4b69-daeb-2c4c5b8aeb35"
      },
      "source": [
        "data=cars24[cars24[\"brand\"]==\"Hyundai\"]\n",
        "print(data.shape)\n",
        "data[\"extra\"]=data[[\"variant\",\"brand\"]].apply(lambda x:x[\"variant\"][len(x[\"brand\"]):],axis=1)\n",
        "data[\"model\"]=data[\"extra\"].apply(lambda x:x.split()[0])\n",
        "print(data[\"model\"].unique())\n",
        "data[data[\"model\"]==\"Grand\"][\"variant\"].apply(lambda x:x.split()[2]).unique()"
      ],
      "execution_count": null,
      "outputs": [
        {
          "output_type": "stream",
          "text": [
            "(10233, 10)\n",
            "['Santro' 'Grand' 'i10' 'Eon' 'i20' 'Elite' 'Creta' 'Verna' 'Xcent'\n",
            " 'Accent' 'Santa' 'Getz' 'Elantra' 'New' 'XCENT' 'AURA' 'NEW' 'GRAND'\n",
            " 'Sonata' 'VENUE' 'Tucson']\n"
          ],
          "name": "stdout"
        },
        {
          "output_type": "execute_result",
          "data": {
            "text/plain": [
              "array(['i10'], dtype=object)"
            ]
          },
          "metadata": {
            "tags": []
          },
          "execution_count": 149
        }
      ]
    },
    {
      "cell_type": "markdown",
      "metadata": {
        "id": "diNmDn5zSV1D",
        "colab_type": "text"
      },
      "source": [
        "Ashok Leyland:\n",
        "1.Leyland(add to brand name)-Add Stile\n",
        "\n",
        "\n",
        "Hindustan motors:\n",
        "1. motors(add to brand name)-change to ambassador and Contessa\n",
        "\n",
        "\n",
        "\n",
        "drop force\n",
        "\n",
        "Land Rover\n",
        "1. Range-Add Rover\n",
        "\n",
        "Volvo\n",
        "1. XC-add 60 or 90\n",
        "2. V-add 40\n",
        "\n",
        "Fiat\n",
        "1. Grand-Add punto\n",
        "2. Urban-Add Cross\n",
        "\n",
        "\n",
        "\n",
        "Jeep\n",
        "1. JEEP-Villys\n",
        "\n",
        "NISSAN:\n",
        "\n",
        "1. X-add trail\n",
        "2. NISSAN-remove nissan add kicks\n",
        "\n",
        "\n",
        "BMW:\n",
        "\n",
        "1. Drop Mini\n",
        "2. add series with 3,7,5,1,6\n",
        "\n",
        "Toyota\n",
        "\n",
        "1. Land-add Cruiser\n",
        "\n",
        "\n",
        "Mahindra\n",
        "\n",
        "1. Renault-Logan\n",
        "2. XUV-add 300\n",
        "3. E2O,E20-change E2o\n",
        "\n",
        "Tata\n",
        "\n",
        "1. Vista-indica\n",
        "2. spacio-sumo\n",
        "3. Grande-sumo\n",
        "\n",
        "\n",
        "\n",
        "\n",
        "Hyundai\n",
        "\n",
        "1. Grand-should be added i20\n",
        "2. NEW-it shows santro as model when splitting further\n",
        "3. New-it is elantra\n",
        "3. Elite-it is Elite i20\n",
        "\n",
        "Honda -it seems fine\n",
        "\n",
        "Maruti:\n",
        "\n",
        "1. Wagon-R should be added\n",
        "2. Vitara-Breeza should be added\n",
        "3. A-should be converted to alto\n",
        "4. S-both scross and spresso is found\n",
        "5. Grand-Vitara should be added\n",
        "6. New-Wagon-R\n",
        "7. WAGON-R shouls be added\n",
        "\n",
        "MARUTI:\n",
        "1.S-add xpresso\n",
        "\n",
        "Ford\n",
        "\n",
        "1. New-Figo\n",
        "\n",
        "VW\n",
        "\n",
        "1. cross-polo\n",
        "\n",
        "\n",
        "\n"
      ]
    },
    {
      "cell_type": "code",
      "metadata": {
        "id": "yqtZOLIIjbSb",
        "colab_type": "code",
        "colab": {
          "base_uri": "https://localhost:8080/",
          "height": 126
        },
        "outputId": "11738039-cbf1-4908-8d15-e7e14f62c2f1"
      },
      "source": [
        "cars24[\"brand\"].unique()\n"
      ],
      "execution_count": null,
      "outputs": [
        {
          "output_type": "execute_result",
          "data": {
            "text/plain": [
              "array(['Maruti', 'Volkswagen', 'Hyundai', 'Honda', 'Renault', 'Ford',\n",
              "       'Tata', 'Mitsubishi', 'Toyota', 'Mahindra', 'Chevrolet', 'Skoda',\n",
              "       'Audi', 'BMW', 'Jeep', 'Fiat', 'Datsun', 'Nissan', 'Landrover',\n",
              "       'Mercedes Benz', 'Porsche', 'Jaguar', 'Force', 'Ssangyong', 'MG',\n",
              "       'ISUZU', 'Volvo', 'ICML', 'Daewoo', 'KIA', 'Opel', 'Premier',\n",
              "       'Hindustan Motors', 'MARUTI', 'DC', 'Ashok Leyland'], dtype=object)"
            ]
          },
          "metadata": {
            "tags": []
          },
          "execution_count": 150
        }
      ]
    },
    {
      "cell_type": "code",
      "metadata": {
        "id": "Q7xGACoTYKJ2",
        "colab_type": "code",
        "colab": {}
      },
      "source": [
        "def model_process(data):\n",
        "  brand=data[\"brand\"]\n",
        "  model=data[\"model\"]\n",
        "  variant=data[\"extra\"]\n",
        "  #Hyundai\n",
        "  if brand==\"Hyundai\":\n",
        "    if model in [\"Grand\",\"GRAND\"]:\n",
        "      return model+\" \"+variant.split()[1]\n",
        "    elif model in [\"NEW\",\"New\"]:\n",
        "      return variant.split()[1]\n",
        "    elif model==\"Elite\":\n",
        "      return \"i20\"\n",
        "    else:\n",
        "      return model\n",
        "  #Marurti\n",
        "  elif brand==\"Maruti\":\n",
        "    if model in [\"Wagon\",\"S\",\"Grand\",\"WAGON\",\"Vitara\",]:\n",
        "      return model+\" \"+variant.split()[1]\n",
        "    elif model in [\"A\",\"New\"]:\n",
        "      maruti_d={\"A\":\"Alto\",\"New\":\"Wagon R\"}\n",
        "      return maruti_d[model]\n",
        "    else :\n",
        "      return model\n",
        "  #MARUTI:\n",
        "  elif brand==\"MARUTI\":\n",
        "    if model in [\"S\"]:\n",
        "      return model+\" \"+variant.split()[1]\n",
        "    else:\n",
        "      return model\n",
        "  #Ford\n",
        "  elif brand==\"Ford\":\n",
        "    if model in [\"New\"]:\n",
        "      return variant.split()[1]\n",
        "    else:\n",
        "      return model\n",
        "  elif brand==\"Volkswagen\":\n",
        "    if model in [\"Cross\"]:\n",
        "      return model+\" \"+variant.split()[1]\n",
        "    else:\n",
        "      return model\n",
        "  elif brand==\"Tata\":\n",
        "    if model in [\"Vista\",\"Grande\",\"spacio\"]:\n",
        "      tata_d={\"Vista\":\"Indica\",\"Grande\":\"Sumo\",\"spacio\":\"Sumo\"}\n",
        "      return tata_d[model]\n",
        "    else:\n",
        "      return model\n",
        "  elif brand==\"Mahindra\":\n",
        "    if model in [\"Renault\",\"E2O\",\"E20\"]:\n",
        "      mahindra_d={\"Renault\":\"Logan\",\"E20\":\"E2o\",\"E2O\":\"E2o\"}\n",
        "      return mahindra_d[model]\n",
        "    elif model==\"XUV\":\n",
        "      return model+\" \"+variant.split()[1]\n",
        "    else:\n",
        "      return model\n",
        "  elif brand==\"Toyota\":\n",
        "    if model==\"Land\":\n",
        "      return model+\" \"+variant.split()[1]\n",
        "    else:\n",
        "      return model\n",
        "  elif brand==\"BMW\":\n",
        "    if model in [\"3\",\"7\",\"5\",\"1\",\"6\"]:\n",
        "      return model+\" \"+\"Series\"\n",
        "    else:\n",
        "      return model\n",
        "  elif brand==\"Nissan\":\n",
        "    if model==\"X\":\n",
        "      return model+\" \"+variant.split()[1]\n",
        "    elif model==\"NISSAN\":\n",
        "      return \"Kicks\"\n",
        "    else:\n",
        "      return model\n",
        "  elif brand==\"Jeep\":\n",
        "    if model==\"JEEP\":\n",
        "      return \"Villys\"\n",
        "    else:\n",
        "      return model\n",
        "  elif brand==\"Fiat\":\n",
        "    if model in [\"URBAN\",\"Grand\"]:\n",
        "      return model+\" \"+variant.split()[1]\n",
        "    else:\n",
        "      return model\n",
        "  elif brand==\"Volvo\":\n",
        "    if model in [\"XC\",\"V\"]:\n",
        "      return model+variant.split()[1]\n",
        "    else:\n",
        "      return model\n",
        "  elif brand==\"Landrover\":\n",
        "    if model==\"Range\":\n",
        "      return model+\" \"+variant.split()[1]\n",
        "    else:\n",
        "      return model\n",
        "  else:\n",
        "    return model\n",
        "  "
      ],
      "execution_count": null,
      "outputs": []
    },
    {
      "cell_type": "code",
      "metadata": {
        "id": "nfC46W-4SSo-",
        "colab_type": "code",
        "colab": {
          "base_uri": "https://localhost:8080/",
          "height": 72
        },
        "outputId": "f315aff6-aefc-4109-b9f6-003ef3206fdf"
      },
      "source": [
        "data=cars24[cars24[\"brand\"]==\"Ashok Leyland\"]\n",
        "print(data.shape)\n",
        "data[\"extra\"]=data[[\"variant\",\"brand\"]].apply(lambda x:x[\"variant\"][len(x[\"brand\"]):],axis=1)\n",
        "data[\"model\"]=data[\"extra\"].apply(lambda x:x.split()[0])\n",
        "print(data[\"model\"].unique())\n",
        "data[\"model\"]=data.apply(model_process,axis=1)\n",
        "#data[\"model\"]=data.apply(lambda x:x[\"model\"] if  x[\"model\"] not in [\"Grand\",\"NEW\",\"New\",\"GRAND\"] else x[\"model\"]+x[\"variant\"].split()[2],axis=1)\n",
        "print(data[\"model\"].unique())\n",
        "#data[data[\"model\"]==\"Grand\"][\"variant\"].apply(lambda x:x.split()[2]).unique()"
      ],
      "execution_count": null,
      "outputs": [
        {
          "output_type": "stream",
          "text": [
            "(2, 10)\n",
            "['Stile']\n",
            "['Stile']\n"
          ],
          "name": "stdout"
        }
      ]
    },
    {
      "cell_type": "code",
      "metadata": {
        "id": "Zy5pUYgp9zEw",
        "colab_type": "code",
        "colab": {}
      },
      "source": [
        "cars24_copy=cars24.copy()"
      ],
      "execution_count": null,
      "outputs": []
    },
    {
      "cell_type": "code",
      "metadata": {
        "id": "caR3aDq36Y5C",
        "colab_type": "code",
        "colab": {}
      },
      "source": [
        "cars24_copy[\"extra\"]=cars24_copy[[\"variant\",\"brand\"]].apply(lambda x:x[\"variant\"][len(x[\"brand\"]):],axis=1)\n",
        "cars24_copy[\"model\"]=cars24_copy[\"extra\"].apply(lambda x:x.split()[0])\n",
        "cars24_copy[\"model\"]=cars24_copy.apply(model_process,axis=1)"
      ],
      "execution_count": null,
      "outputs": []
    },
    {
      "cell_type": "code",
      "metadata": {
        "id": "xn-g0IE795m1",
        "colab_type": "code",
        "colab": {
          "base_uri": "https://localhost:8080/",
          "height": 198
        },
        "outputId": "339fcfe0-65eb-4b23-e552-fb3d1bb15692"
      },
      "source": [
        "cars24_copy.head()"
      ],
      "execution_count": null,
      "outputs": [
        {
          "output_type": "execute_result",
          "data": {
            "text/html": [
              "<div>\n",
              "<style scoped>\n",
              "    .dataframe tbody tr th:only-of-type {\n",
              "        vertical-align: middle;\n",
              "    }\n",
              "\n",
              "    .dataframe tbody tr th {\n",
              "        vertical-align: top;\n",
              "    }\n",
              "\n",
              "    .dataframe thead th {\n",
              "        text-align: right;\n",
              "    }\n",
              "</style>\n",
              "<table border=\"1\" class=\"dataframe\">\n",
              "  <thead>\n",
              "    <tr style=\"text-align: right;\">\n",
              "      <th></th>\n",
              "      <th>variant</th>\n",
              "      <th>price</th>\n",
              "      <th>Year</th>\n",
              "      <th>Kms Driven</th>\n",
              "      <th>Fuel Type</th>\n",
              "      <th>Owner</th>\n",
              "      <th>Transmission</th>\n",
              "      <th>city</th>\n",
              "      <th>car_name</th>\n",
              "      <th>brand</th>\n",
              "      <th>extra</th>\n",
              "      <th>model</th>\n",
              "    </tr>\n",
              "  </thead>\n",
              "  <tbody>\n",
              "    <tr>\n",
              "      <th>0</th>\n",
              "      <td>Maruti Ertiga ZDI</td>\n",
              "      <td>454,675</td>\n",
              "      <td>2012</td>\n",
              "      <td>98,284</td>\n",
              "      <td>Diesel</td>\n",
              "      <td>First</td>\n",
              "      <td>Manual</td>\n",
              "      <td>delhi-ncr</td>\n",
              "      <td>Maruti Ertiga</td>\n",
              "      <td>Maruti</td>\n",
              "      <td>Ertiga ZDI</td>\n",
              "      <td>Ertiga</td>\n",
              "    </tr>\n",
              "    <tr>\n",
              "      <th>1</th>\n",
              "      <td>Maruti Ciaz VXI PLUS</td>\n",
              "      <td>658,520</td>\n",
              "      <td>2015</td>\n",
              "      <td>11,600</td>\n",
              "      <td>Petrol</td>\n",
              "      <td>First</td>\n",
              "      <td>Manual</td>\n",
              "      <td>delhi-ncr</td>\n",
              "      <td>Maruti Ciaz</td>\n",
              "      <td>Maruti</td>\n",
              "      <td>Ciaz VXI PLUS</td>\n",
              "      <td>Ciaz</td>\n",
              "    </tr>\n",
              "    <tr>\n",
              "      <th>2</th>\n",
              "      <td>Maruti Swift VDI</td>\n",
              "      <td>220,366</td>\n",
              "      <td>2011</td>\n",
              "      <td>75,829</td>\n",
              "      <td>Diesel</td>\n",
              "      <td>First</td>\n",
              "      <td>Manual</td>\n",
              "      <td>delhi-ncr</td>\n",
              "      <td>Maruti Swift</td>\n",
              "      <td>Maruti</td>\n",
              "      <td>Swift VDI</td>\n",
              "      <td>Swift</td>\n",
              "    </tr>\n",
              "    <tr>\n",
              "      <th>3</th>\n",
              "      <td>Maruti Ertiga ZDI</td>\n",
              "      <td>454,675</td>\n",
              "      <td>2012</td>\n",
              "      <td>98,284</td>\n",
              "      <td>Diesel</td>\n",
              "      <td>First</td>\n",
              "      <td>Manual</td>\n",
              "      <td>delhi-ncr</td>\n",
              "      <td>Maruti Ertiga</td>\n",
              "      <td>Maruti</td>\n",
              "      <td>Ertiga ZDI</td>\n",
              "      <td>Ertiga</td>\n",
              "    </tr>\n",
              "    <tr>\n",
              "      <th>4</th>\n",
              "      <td>Maruti Swift Dzire VXI 1.3</td>\n",
              "      <td>257,084</td>\n",
              "      <td>2009</td>\n",
              "      <td>75,753</td>\n",
              "      <td>Petrol</td>\n",
              "      <td>First</td>\n",
              "      <td>Manual</td>\n",
              "      <td>delhi-ncr</td>\n",
              "      <td>Maruti Swift Dzire</td>\n",
              "      <td>Maruti</td>\n",
              "      <td>Swift Dzire VXI 1.3</td>\n",
              "      <td>Swift</td>\n",
              "    </tr>\n",
              "  </tbody>\n",
              "</table>\n",
              "</div>"
            ],
            "text/plain": [
              "                      variant    price  ...                 extra   model\n",
              "0           Maruti Ertiga ZDI  454,675  ...            Ertiga ZDI  Ertiga\n",
              "1        Maruti Ciaz VXI PLUS  658,520  ...         Ciaz VXI PLUS    Ciaz\n",
              "2            Maruti Swift VDI  220,366  ...             Swift VDI   Swift\n",
              "3           Maruti Ertiga ZDI  454,675  ...            Ertiga ZDI  Ertiga\n",
              "4  Maruti Swift Dzire VXI 1.3  257,084  ...   Swift Dzire VXI 1.3   Swift\n",
              "\n",
              "[5 rows x 12 columns]"
            ]
          },
          "metadata": {
            "tags": []
          },
          "execution_count": 155
        }
      ]
    },
    {
      "cell_type": "code",
      "metadata": {
        "id": "GG1Oa-xj98Nd",
        "colab_type": "code",
        "colab": {}
      },
      "source": [
        "cars24_final=cars24_copy.drop(columns=[\"car_name\",\"extra\"])"
      ],
      "execution_count": null,
      "outputs": []
    },
    {
      "cell_type": "code",
      "metadata": {
        "id": "6oae3SUu-Lm6",
        "colab_type": "code",
        "colab": {
          "base_uri": "https://localhost:8080/",
          "height": 198
        },
        "outputId": "103cd966-40da-4980-83d7-5477c515d4a7"
      },
      "source": [
        "cars24_final.head()"
      ],
      "execution_count": null,
      "outputs": [
        {
          "output_type": "execute_result",
          "data": {
            "text/html": [
              "<div>\n",
              "<style scoped>\n",
              "    .dataframe tbody tr th:only-of-type {\n",
              "        vertical-align: middle;\n",
              "    }\n",
              "\n",
              "    .dataframe tbody tr th {\n",
              "        vertical-align: top;\n",
              "    }\n",
              "\n",
              "    .dataframe thead th {\n",
              "        text-align: right;\n",
              "    }\n",
              "</style>\n",
              "<table border=\"1\" class=\"dataframe\">\n",
              "  <thead>\n",
              "    <tr style=\"text-align: right;\">\n",
              "      <th></th>\n",
              "      <th>variant</th>\n",
              "      <th>price</th>\n",
              "      <th>Year</th>\n",
              "      <th>Kms Driven</th>\n",
              "      <th>Fuel Type</th>\n",
              "      <th>Owner</th>\n",
              "      <th>Transmission</th>\n",
              "      <th>city</th>\n",
              "      <th>brand</th>\n",
              "      <th>model</th>\n",
              "    </tr>\n",
              "  </thead>\n",
              "  <tbody>\n",
              "    <tr>\n",
              "      <th>0</th>\n",
              "      <td>Maruti Ertiga ZDI</td>\n",
              "      <td>454,675</td>\n",
              "      <td>2012</td>\n",
              "      <td>98,284</td>\n",
              "      <td>Diesel</td>\n",
              "      <td>First</td>\n",
              "      <td>Manual</td>\n",
              "      <td>delhi-ncr</td>\n",
              "      <td>Maruti</td>\n",
              "      <td>Ertiga</td>\n",
              "    </tr>\n",
              "    <tr>\n",
              "      <th>1</th>\n",
              "      <td>Maruti Ciaz VXI PLUS</td>\n",
              "      <td>658,520</td>\n",
              "      <td>2015</td>\n",
              "      <td>11,600</td>\n",
              "      <td>Petrol</td>\n",
              "      <td>First</td>\n",
              "      <td>Manual</td>\n",
              "      <td>delhi-ncr</td>\n",
              "      <td>Maruti</td>\n",
              "      <td>Ciaz</td>\n",
              "    </tr>\n",
              "    <tr>\n",
              "      <th>2</th>\n",
              "      <td>Maruti Swift VDI</td>\n",
              "      <td>220,366</td>\n",
              "      <td>2011</td>\n",
              "      <td>75,829</td>\n",
              "      <td>Diesel</td>\n",
              "      <td>First</td>\n",
              "      <td>Manual</td>\n",
              "      <td>delhi-ncr</td>\n",
              "      <td>Maruti</td>\n",
              "      <td>Swift</td>\n",
              "    </tr>\n",
              "    <tr>\n",
              "      <th>3</th>\n",
              "      <td>Maruti Ertiga ZDI</td>\n",
              "      <td>454,675</td>\n",
              "      <td>2012</td>\n",
              "      <td>98,284</td>\n",
              "      <td>Diesel</td>\n",
              "      <td>First</td>\n",
              "      <td>Manual</td>\n",
              "      <td>delhi-ncr</td>\n",
              "      <td>Maruti</td>\n",
              "      <td>Ertiga</td>\n",
              "    </tr>\n",
              "    <tr>\n",
              "      <th>4</th>\n",
              "      <td>Maruti Swift Dzire VXI 1.3</td>\n",
              "      <td>257,084</td>\n",
              "      <td>2009</td>\n",
              "      <td>75,753</td>\n",
              "      <td>Petrol</td>\n",
              "      <td>First</td>\n",
              "      <td>Manual</td>\n",
              "      <td>delhi-ncr</td>\n",
              "      <td>Maruti</td>\n",
              "      <td>Swift</td>\n",
              "    </tr>\n",
              "  </tbody>\n",
              "</table>\n",
              "</div>"
            ],
            "text/plain": [
              "                      variant    price  Year  ...       city   brand   model\n",
              "0           Maruti Ertiga ZDI  454,675  2012  ...  delhi-ncr  Maruti  Ertiga\n",
              "1        Maruti Ciaz VXI PLUS  658,520  2015  ...  delhi-ncr  Maruti    Ciaz\n",
              "2            Maruti Swift VDI  220,366  2011  ...  delhi-ncr  Maruti   Swift\n",
              "3           Maruti Ertiga ZDI  454,675  2012  ...  delhi-ncr  Maruti  Ertiga\n",
              "4  Maruti Swift Dzire VXI 1.3  257,084  2009  ...  delhi-ncr  Maruti   Swift\n",
              "\n",
              "[5 rows x 10 columns]"
            ]
          },
          "metadata": {
            "tags": []
          },
          "execution_count": 157
        }
      ]
    },
    {
      "cell_type": "code",
      "metadata": {
        "id": "5b8aGLn2SZ9q",
        "colab_type": "code",
        "colab": {
          "base_uri": "https://localhost:8080/",
          "height": 72
        },
        "outputId": "2e2251c1-0b4d-4093-f59e-ef0cfbfac2a3"
      },
      "source": [
        "cars24_final.columns"
      ],
      "execution_count": null,
      "outputs": [
        {
          "output_type": "execute_result",
          "data": {
            "text/plain": [
              "Index(['variant', 'price', 'Year', 'Kms Driven', 'Fuel Type', 'Owner',\n",
              "       'Transmission', 'city', 'brand', 'model'],\n",
              "      dtype='object')"
            ]
          },
          "metadata": {
            "tags": []
          },
          "execution_count": 158
        }
      ]
    },
    {
      "cell_type": "code",
      "metadata": {
        "id": "fzFi6Q9lSeH4",
        "colab_type": "code",
        "colab": {}
      },
      "source": [
        "df.columns=['brand', 'model', 'variant', 'price', 'Kms Driven', 'Fuel Type', 'Owner',\n",
        "       'city', 'Year', 'Transmission']"
      ],
      "execution_count": null,
      "outputs": []
    },
    {
      "cell_type": "code",
      "metadata": {
        "id": "tdhHIG6O-SY0",
        "colab_type": "code",
        "colab": {
          "base_uri": "https://localhost:8080/",
          "height": 198
        },
        "outputId": "eac296d9-5964-4b0a-e759-ff73132c37af"
      },
      "source": [
        "df.head()"
      ],
      "execution_count": null,
      "outputs": [
        {
          "output_type": "execute_result",
          "data": {
            "text/html": [
              "<div>\n",
              "<style scoped>\n",
              "    .dataframe tbody tr th:only-of-type {\n",
              "        vertical-align: middle;\n",
              "    }\n",
              "\n",
              "    .dataframe tbody tr th {\n",
              "        vertical-align: top;\n",
              "    }\n",
              "\n",
              "    .dataframe thead th {\n",
              "        text-align: right;\n",
              "    }\n",
              "</style>\n",
              "<table border=\"1\" class=\"dataframe\">\n",
              "  <thead>\n",
              "    <tr style=\"text-align: right;\">\n",
              "      <th></th>\n",
              "      <th>brand</th>\n",
              "      <th>model</th>\n",
              "      <th>variant</th>\n",
              "      <th>price</th>\n",
              "      <th>Kms Driven</th>\n",
              "      <th>Fuel Type</th>\n",
              "      <th>Owner</th>\n",
              "      <th>city</th>\n",
              "      <th>Year</th>\n",
              "      <th>Transmission</th>\n",
              "    </tr>\n",
              "  </thead>\n",
              "  <tbody>\n",
              "    <tr>\n",
              "      <th>0</th>\n",
              "      <td>Hyundai</td>\n",
              "      <td>Grand i10</td>\n",
              "      <td>Magna</td>\n",
              "      <td>345000</td>\n",
              "      <td>46983</td>\n",
              "      <td>Petrol</td>\n",
              "      <td>1</td>\n",
              "      <td>Pune</td>\n",
              "      <td>2014</td>\n",
              "      <td>Manual</td>\n",
              "    </tr>\n",
              "    <tr>\n",
              "      <th>1</th>\n",
              "      <td>Hyundai</td>\n",
              "      <td>Elite i20</td>\n",
              "      <td>Sportz 1.4</td>\n",
              "      <td>532000</td>\n",
              "      <td>59731</td>\n",
              "      <td>Diesel</td>\n",
              "      <td>1</td>\n",
              "      <td>New Delhi</td>\n",
              "      <td>2015</td>\n",
              "      <td>Manual</td>\n",
              "    </tr>\n",
              "    <tr>\n",
              "      <th>2</th>\n",
              "      <td>Maruti Suzuki</td>\n",
              "      <td>Wagon R</td>\n",
              "      <td>VXi</td>\n",
              "      <td>425000</td>\n",
              "      <td>28316</td>\n",
              "      <td>Petrol</td>\n",
              "      <td>1</td>\n",
              "      <td>Bangalore</td>\n",
              "      <td>2017</td>\n",
              "      <td>Manual</td>\n",
              "    </tr>\n",
              "    <tr>\n",
              "      <th>3</th>\n",
              "      <td>Nissan</td>\n",
              "      <td>Micra Active</td>\n",
              "      <td>XV</td>\n",
              "      <td>353000</td>\n",
              "      <td>59817</td>\n",
              "      <td>Petrol</td>\n",
              "      <td>1</td>\n",
              "      <td>Bangalore</td>\n",
              "      <td>2014</td>\n",
              "      <td>Manual</td>\n",
              "    </tr>\n",
              "    <tr>\n",
              "      <th>4</th>\n",
              "      <td>Hyundai</td>\n",
              "      <td>Elite i20</td>\n",
              "      <td>Sportz 1.2</td>\n",
              "      <td>605000</td>\n",
              "      <td>38550</td>\n",
              "      <td>Petrol</td>\n",
              "      <td>1</td>\n",
              "      <td>Bangalore</td>\n",
              "      <td>2015</td>\n",
              "      <td>Manual</td>\n",
              "    </tr>\n",
              "  </tbody>\n",
              "</table>\n",
              "</div>"
            ],
            "text/plain": [
              "           brand         model     variant  ...       city  Year Transmission\n",
              "0        Hyundai     Grand i10       Magna  ...       Pune  2014       Manual\n",
              "1        Hyundai    Elite i20   Sportz 1.4  ...  New Delhi  2015       Manual\n",
              "2  Maruti Suzuki       Wagon R         VXi  ...  Bangalore  2017       Manual\n",
              "3         Nissan  Micra Active          XV  ...  Bangalore  2014       Manual\n",
              "4        Hyundai    Elite i20   Sportz 1.2  ...  Bangalore  2015       Manual\n",
              "\n",
              "[5 rows x 10 columns]"
            ]
          },
          "metadata": {
            "tags": []
          },
          "execution_count": 160
        }
      ]
    },
    {
      "cell_type": "code",
      "metadata": {
        "id": "xfABvcKL-UGW",
        "colab_type": "code",
        "colab": {}
      },
      "source": [
        "concated_df=pd.concat([cars24_final,df])"
      ],
      "execution_count": null,
      "outputs": []
    },
    {
      "cell_type": "code",
      "metadata": {
        "id": "xYD-XfPiTQqA",
        "colab_type": "code",
        "colab": {
          "base_uri": "https://localhost:8080/",
          "height": 35
        },
        "outputId": "2d3812a4-7556-445a-8a2e-9e5b03cadd8f"
      },
      "source": [
        "concated_df[\"brand\"].nunique(),df[\"brand\"].nunique(),cars24_final[\"brand\"].nunique()"
      ],
      "execution_count": null,
      "outputs": [
        {
          "output_type": "execute_result",
          "data": {
            "text/plain": [
              "(42, 28, 36)"
            ]
          },
          "metadata": {
            "tags": []
          },
          "execution_count": 162
        }
      ]
    },
    {
      "cell_type": "code",
      "metadata": {
        "id": "wSyy3QPRTad1",
        "colab_type": "code",
        "colab": {
          "base_uri": "https://localhost:8080/",
          "height": 163
        },
        "outputId": "99231730-c178-45e8-df36-736f669c4e40"
      },
      "source": [
        "concated_df[\"brand\"].unique()"
      ],
      "execution_count": null,
      "outputs": [
        {
          "output_type": "execute_result",
          "data": {
            "text/plain": [
              "array(['Maruti', 'Volkswagen', 'Hyundai', 'Honda', 'Renault', 'Ford',\n",
              "       'Tata', 'Mitsubishi', 'Toyota', 'Mahindra', 'Chevrolet', 'Skoda',\n",
              "       'Audi', 'BMW', 'Jeep', 'Fiat', 'Datsun', 'Nissan', 'Landrover',\n",
              "       'Mercedes Benz', 'Porsche', 'Jaguar', 'Force', 'Ssangyong', 'MG',\n",
              "       'ISUZU', 'Volvo', 'ICML', 'Daewoo', 'KIA', 'Opel', 'Premier',\n",
              "       'Hindustan Motors', 'MARUTI', 'DC', 'Ashok Leyland',\n",
              "       'Maruti Suzuki', 'Mahindra SsangYong', 'Mercedes-Benz',\n",
              "       'Land Rover', 'Isuzu', 'Mini', nan], dtype=object)"
            ]
          },
          "metadata": {
            "tags": []
          },
          "execution_count": 163
        }
      ]
    },
    {
      "cell_type": "code",
      "metadata": {
        "id": "kIZLtdRIT3ve",
        "colab_type": "code",
        "colab": {
          "base_uri": "https://localhost:8080/",
          "height": 217
        },
        "outputId": "b8a6a311-3462-45c5-cfd4-f6b96c8a9bc5"
      },
      "source": [
        "concated_df.isnull().sum()"
      ],
      "execution_count": null,
      "outputs": [
        {
          "output_type": "execute_result",
          "data": {
            "text/plain": [
              "variant            66\n",
              "price               0\n",
              "Year                0\n",
              "Kms Driven          0\n",
              "Fuel Type          88\n",
              "Owner               0\n",
              "Transmission    14253\n",
              "city                0\n",
              "brand              26\n",
              "model              51\n",
              "dtype: int64"
            ]
          },
          "metadata": {
            "tags": []
          },
          "execution_count": 164
        }
      ]
    },
    {
      "cell_type": "code",
      "metadata": {
        "id": "ZhTMM_u6T-ia",
        "colab_type": "code",
        "colab": {}
      },
      "source": [
        "concated_df=concated_df.dropna(subset=[\"brand\",\"model\"])"
      ],
      "execution_count": null,
      "outputs": []
    },
    {
      "cell_type": "code",
      "metadata": {
        "id": "PVTVdKiuTn5A",
        "colab_type": "code",
        "colab": {}
      },
      "source": [
        "concated_df[\"brand\"]=concated_df[\"brand\"].apply(lambda x:x[0].upper()+x[1:].lower())"
      ],
      "execution_count": null,
      "outputs": []
    },
    {
      "cell_type": "code",
      "metadata": {
        "id": "uQ-zvDerU4VA",
        "colab_type": "code",
        "colab": {}
      },
      "source": [
        "concated_df[\"brand\"]=concated_df[\"brand\"].replace({\"Mahindra ssangyong\":\"Ssangyong\",\"Land rover\":\"Land Rover\",\"Landrover\":\"Land Rover\",\n",
        "                              \"Maruti suzuki\":\"Maruti\",\"Mercedes-benz\":\"Mercedes Benz\",\"Mercedes benz\":\"Mercedes Benz\",\n",
        "                              'Hindustan motors':\"Hindustan Motors\",\"Ashok eyland\":\"Ashok Leyland\"})"
      ],
      "execution_count": null,
      "outputs": []
    },
    {
      "cell_type": "code",
      "metadata": {
        "id": "-S66TsKyUwSs",
        "colab_type": "code",
        "colab": {
          "base_uri": "https://localhost:8080/",
          "height": 35
        },
        "outputId": "cdd72e12-7b8d-4ff5-8e40-5618b9e4300a"
      },
      "source": [
        "concated_df[\"brand\"].nunique(),df[\"brand\"].nunique(),cars24_final[\"brand\"].nunique()"
      ],
      "execution_count": null,
      "outputs": [
        {
          "output_type": "execute_result",
          "data": {
            "text/plain": [
              "(36, 28, 36)"
            ]
          },
          "metadata": {
            "tags": []
          },
          "execution_count": 168
        }
      ]
    },
    {
      "cell_type": "code",
      "metadata": {
        "id": "sPlrMA9sXfwz",
        "colab_type": "code",
        "colab": {
          "base_uri": "https://localhost:8080/",
          "height": 198
        },
        "outputId": "a75af938-a5f8-4170-d428-91757d677084"
      },
      "source": [
        "concated_df.head()"
      ],
      "execution_count": null,
      "outputs": [
        {
          "output_type": "execute_result",
          "data": {
            "text/html": [
              "<div>\n",
              "<style scoped>\n",
              "    .dataframe tbody tr th:only-of-type {\n",
              "        vertical-align: middle;\n",
              "    }\n",
              "\n",
              "    .dataframe tbody tr th {\n",
              "        vertical-align: top;\n",
              "    }\n",
              "\n",
              "    .dataframe thead th {\n",
              "        text-align: right;\n",
              "    }\n",
              "</style>\n",
              "<table border=\"1\" class=\"dataframe\">\n",
              "  <thead>\n",
              "    <tr style=\"text-align: right;\">\n",
              "      <th></th>\n",
              "      <th>variant</th>\n",
              "      <th>price</th>\n",
              "      <th>Year</th>\n",
              "      <th>Kms Driven</th>\n",
              "      <th>Fuel Type</th>\n",
              "      <th>Owner</th>\n",
              "      <th>Transmission</th>\n",
              "      <th>city</th>\n",
              "      <th>brand</th>\n",
              "      <th>model</th>\n",
              "    </tr>\n",
              "  </thead>\n",
              "  <tbody>\n",
              "    <tr>\n",
              "      <th>0</th>\n",
              "      <td>Maruti Ertiga ZDI</td>\n",
              "      <td>454,675</td>\n",
              "      <td>2012</td>\n",
              "      <td>98,284</td>\n",
              "      <td>Diesel</td>\n",
              "      <td>First</td>\n",
              "      <td>Manual</td>\n",
              "      <td>delhi-ncr</td>\n",
              "      <td>Maruti</td>\n",
              "      <td>Ertiga</td>\n",
              "    </tr>\n",
              "    <tr>\n",
              "      <th>1</th>\n",
              "      <td>Maruti Ciaz VXI PLUS</td>\n",
              "      <td>658,520</td>\n",
              "      <td>2015</td>\n",
              "      <td>11,600</td>\n",
              "      <td>Petrol</td>\n",
              "      <td>First</td>\n",
              "      <td>Manual</td>\n",
              "      <td>delhi-ncr</td>\n",
              "      <td>Maruti</td>\n",
              "      <td>Ciaz</td>\n",
              "    </tr>\n",
              "    <tr>\n",
              "      <th>2</th>\n",
              "      <td>Maruti Swift VDI</td>\n",
              "      <td>220,366</td>\n",
              "      <td>2011</td>\n",
              "      <td>75,829</td>\n",
              "      <td>Diesel</td>\n",
              "      <td>First</td>\n",
              "      <td>Manual</td>\n",
              "      <td>delhi-ncr</td>\n",
              "      <td>Maruti</td>\n",
              "      <td>Swift</td>\n",
              "    </tr>\n",
              "    <tr>\n",
              "      <th>3</th>\n",
              "      <td>Maruti Ertiga ZDI</td>\n",
              "      <td>454,675</td>\n",
              "      <td>2012</td>\n",
              "      <td>98,284</td>\n",
              "      <td>Diesel</td>\n",
              "      <td>First</td>\n",
              "      <td>Manual</td>\n",
              "      <td>delhi-ncr</td>\n",
              "      <td>Maruti</td>\n",
              "      <td>Ertiga</td>\n",
              "    </tr>\n",
              "    <tr>\n",
              "      <th>4</th>\n",
              "      <td>Maruti Swift Dzire VXI 1.3</td>\n",
              "      <td>257,084</td>\n",
              "      <td>2009</td>\n",
              "      <td>75,753</td>\n",
              "      <td>Petrol</td>\n",
              "      <td>First</td>\n",
              "      <td>Manual</td>\n",
              "      <td>delhi-ncr</td>\n",
              "      <td>Maruti</td>\n",
              "      <td>Swift</td>\n",
              "    </tr>\n",
              "  </tbody>\n",
              "</table>\n",
              "</div>"
            ],
            "text/plain": [
              "                      variant    price  Year  ...       city   brand   model\n",
              "0           Maruti Ertiga ZDI  454,675  2012  ...  delhi-ncr  Maruti  Ertiga\n",
              "1        Maruti Ciaz VXI PLUS  658,520  2015  ...  delhi-ncr  Maruti    Ciaz\n",
              "2            Maruti Swift VDI  220,366  2011  ...  delhi-ncr  Maruti   Swift\n",
              "3           Maruti Ertiga ZDI  454,675  2012  ...  delhi-ncr  Maruti  Ertiga\n",
              "4  Maruti Swift Dzire VXI 1.3  257,084  2009  ...  delhi-ncr  Maruti   Swift\n",
              "\n",
              "[5 rows x 10 columns]"
            ]
          },
          "metadata": {
            "tags": []
          },
          "execution_count": 169
        }
      ]
    },
    {
      "cell_type": "code",
      "metadata": {
        "id": "MeD1u9Htw8SP",
        "colab_type": "code",
        "colab": {}
      },
      "source": [
        "def split_process(data):\n",
        "  if \"(\" in data:\n",
        "    return data.split(\"(\")[0]\n",
        "  elif \"[\" in data:\n",
        "    return data.split(\"[\")[0]\n",
        "  else:\n",
        "    return data\n",
        "def numeric_removing(data):\n",
        "  val=[]\n",
        "  l=np.arange(1950,2021).tolist()\n",
        "  l=[str(i) for i in l]\n",
        "  l.append(\"-\")\n",
        "  data=data.split()\n",
        "  data_t=[]\n",
        "  for i in data:\n",
        "    data_t.extend(i.split(\"-\"))\n",
        "  for i in data_t:\n",
        "    if i not in l:\n",
        "      val.append(i)\n",
        "  return \" \".join(val)"
      ],
      "execution_count": null,
      "outputs": []
    },
    {
      "cell_type": "code",
      "metadata": {
        "id": "GAN31k6BQwS7",
        "colab_type": "code",
        "colab": {}
      },
      "source": [
        "def process(data):\n",
        "  brand=data[\"brand\"]\n",
        "  model=data[\"model\"]\n",
        "  val=[]\n",
        "  try:\n",
        "    if brand==\"Hyundai\":\n",
        "      if model in [\"Elite i20\",\"Fluidic Verna 4S\",\"Sonata Embera\",\"Getz Prime\",\"Sonata Transform\",\"Santro Xing\",\"Santa\"]:\n",
        "        d={\"Elite i20\":\"I20\",\"Fluidic Verna 4S\":\"Verna\",\"Sonata Embera\":\"Sonata\",\"Getz Prime\":\"Getz\",\"Sonata Transform\":\"Sonata\",\"Santro Xing\":\"Sonata\",\"Santa\":\"Santa Fe\"}\n",
        "        return d[model]\n",
        "      else:\n",
        "        for i in model.split():\n",
        "          val.append(i[0].upper()+i[1:].lower())\n",
        "        return \" \".join(val)\n",
        "    elif brand==\"Honda\":\n",
        "      if model in [\"BR V\",'WR V','CR V','CR   V –','city 2002–2007','Accord  ']:\n",
        "        d={\"BR V\":\"BRV\",\"WR V\":\"WRV\",\"CR V\":\"CRV\",\"CR   V –\":\"CRV\",\"city 2002–2007\":\"City\",\"Accord  \":\"Accord\"}\n",
        "        return d[model]\n",
        "      else:\n",
        "        return model\n",
        "    elif brand==\"Maruti\":\n",
        "      if model in ['A Star','Alto K10','Wagon R Stingray','Zen Estilo','Alto 800','Swift DZire Facelift','WagonR 1.0','Swift DZire Tour']:\n",
        "        d={\"A Star\":\"Alto\",\"Alto K10\":'Alto',\"Wagon R Stingray\":\"Wagon R\",\"Zen Estilo\":\"Zen\",\"Alto 800\":\"Alto\",\"Swift DZire Facelift\":\"Swift Dzire\",\n",
        "          'WagonR 1.0':\"Wagon R\",\"Swift DZire Tour\":\"Swift Dzire\",\"Dzire\":\"Swift Dzire\"}\n",
        "        return d[model]\n",
        "      else:\n",
        "        for i in model.split():\n",
        "          val.append(i[0].upper()+i[1:].lower())\n",
        "        return \" \".join(val)\n",
        "    elif brand==\"Ford\":\n",
        "      for i in model.split():\n",
        "          val.append(i[0].upper()+i[1:].lower())\n",
        "      return \" \".join(val)\n",
        "    elif brand==\"Volkswagen\":\n",
        "      for i in model.split():\n",
        "          val.append(i[0].upper()+i[1:].lower())\n",
        "      return \" \".join(val)\n",
        "    elif brand==\"Skoda\":\n",
        "      if model==\"Octavia –\":\n",
        "        return \"Octavia\"\n",
        "      else:\n",
        "        for i in model.split():\n",
        "            val.append(i[0].upper()+i[1:].lower())\n",
        "        return \" \".join(val)\n",
        "    elif brand==\"Toyota\":\n",
        "      if model in ['Innova Crysta','Corolla Altis','Etios Liva','Platinum Etios']:\n",
        "        d={'Innova Crysta':\"Innova\",'Corolla Altis':\"Corolla\",'Etios Liva':\"Etios\",'Platinum Etios':\"Etios\"}\n",
        "        return d[model]\n",
        "      else:\n",
        "        for i in model.split():\n",
        "            val.append(i[0].upper()+i[1:].lower())\n",
        "        return \" \".join(val)\n",
        "    elif brand==\"Renault\":\n",
        "      if model==\"Kwid 1.0\":\n",
        "        return \"Kwid\"\n",
        "      else:\n",
        "        for i in model.split():\n",
        "            val.append(i[0].upper()+i[1:].lower())\n",
        "        return \" \".join(val)\n",
        "    elif brand==\"Chevrolet\":\n",
        "      if model in ['Sail Hatchback','Aveo U VA','Optra Magnum']:\n",
        "        d={'Sail Hatchback':\"Sail\",'Aveo U VA':\"Aveo\",'Optra Magnum':\"Optra\"}\n",
        "        return d[model]\n",
        "      else:\n",
        "        for i in model.split():\n",
        "            val.append(i[0].upper()+i[1:].lower())\n",
        "        return \" \".join(val)\n",
        "        '3 Series GT' 'Z4 Roadster' '3 Series Convertible'\n",
        "    elif brand==\"Bmw\":\n",
        "      if model in ['3 Series GT','Z4 Roadster','3 Series Convertible']:\n",
        "        d={'3 Series GT':'3 Series','Z4 Roadster':\"Z4\",'3 Series Convertible':\"3 Series\"}\n",
        "        return d[model]\n",
        "      else:\n",
        "        for i in model.split():\n",
        "            val.append(i[0].upper()+i[1:].lower())\n",
        "        return \" \".join(val)\n",
        "\n",
        "        \n",
        "    elif brand==\"Mercedes Benz\":\n",
        "      if model in ['S','E','C','GLA','B','GLS','R','CLA','GLC','GLE','A','GL','M']:\n",
        "        return model+\" Class\"\n",
        "      elif model==\"Ml\":\n",
        "        return \"M Class\"\n",
        "      elif model==\"E Class –\":\n",
        "        return \"E Class\"\n",
        "      else:\n",
        "        return model.split()[0].upper()+\" \"+model.split()[1][0].upper()+model.split()[1][1:].lower()\n",
        "    elif brand==\"Datsun\":\n",
        "      if model==\"GO+\":\n",
        "        return \"Go Plus\"\n",
        "      elif model==\"Redi\":\n",
        "        return \"Redi Go\"\n",
        "      else:\n",
        "        for i in model.split():\n",
        "            val.append(i[0].upper()+i[1:].lower())\n",
        "        return \" \".join(val)\n",
        "    elif brand==\"Nissan\":\n",
        "      if model==\"Micra Active\":\n",
        "        return \"Micra\"\n",
        "      else:\n",
        "        for i in model.split():\n",
        "            val.append(i[0].upper()+i[1:].lower())\n",
        "        return \" \".join(val)\n",
        "    elif brand==\"Audi\":\n",
        "      if model==\"A8 L \":\n",
        "        return \"A8L\"\n",
        "      else:\n",
        "        return model\n",
        "    elif brand==\"Isuzu\":\n",
        "      if model==\"Dmax V Cross\":\n",
        "        return \"D Max\"\n",
        "      else:\n",
        "        return model\n",
        "    elif brand==\"Mitsubishi\":\n",
        "      if model==\"Pajero Sport\":\n",
        "        return \"Pajero\"\n",
        "      else:\n",
        "        return model\n",
        "    elif brand==\"Fiat\":\n",
        "      if model in ['Punto Evo','Avvventura','Linea Classic','Grande Punto','Palio Stile']:\n",
        "        d={'Punto Evo':\"Punto\",'Avvventura':\"Avventura\",'Linea Classic':\"Linea\",'Grande Punto':\"Grand Punto\",'Palio Stile':\"Palio\"}\n",
        "        return d[model]\n",
        "      else:\n",
        "        for i in model.split():\n",
        "            val.append(i[0].upper()+i[1:].lower())\n",
        "        return \" \".join(val)\n",
        "    elif brand==\"Land Rover\":\n",
        "      if model in ['Discovery Sport','Freelander 2','Range Rover Evoque','Range Rover Sport  ']:\n",
        "        d={'Discovery Sport':\"Discovery\",'Freelander 2':\"Freelander\",'Range Rover Evoque':\"Range Rover\",'Range Rover Sport  ':\"Range Rover\"}\n",
        "        return d[model]\n",
        "      else:\n",
        "        for i in model.split():\n",
        "            val.append(i[0].upper()+i[1:].lower())\n",
        "        return \" \".join(val)\n",
        "    elif brand==\"Tata\":\n",
        "      if model in ['Nano GenX','Safari Storme','Safari Dicor','Nano Twist','Indigo eCS','Indica Vista','Indigo CS','Sumo Grande',\n",
        "  'Indigo Marina','Indica V2','Sumo Gold']:\n",
        "        d={'Nano GenX':'Nano','Safari Storme':\"Safari\",'Safari Dicor':\"Safari\",'Nano Twist':\"Nano\",'Indigo eCS':\"Indigo\",\n",
        "          'Indica Vista':\"Indica\",'Indigo CS':\"Indigo\",'Sumo Grande':'Sumo','Indigo Marina':\"Indigo\",'Indica V2':\"Indica\",'Sumo Gold':\"Sumo\"}\n",
        "        return d[model]\n",
        "      else:\n",
        "        for i in model.split():\n",
        "            val.append(i[0].upper()+i[1:].lower())\n",
        "        return \" \".join(val)\n",
        "    elif brand in [\"Jaguar\",\"Volvo\"]:\n",
        "      return model\n",
        "    elif brand==\"Mahindra\":\n",
        "      if model in [\"KUV100 NXT\",'Kuv100']:\n",
        "        return \"KUV\"\n",
        "      elif model==\"Tuv300\":\n",
        "        return \"TUV\"\n",
        "      else:\n",
        "        return model.strip()\n",
        "    else:\n",
        "      for i in model.split():\n",
        "            val.append(i[0].upper()+i[1:].lower())\n",
        "      return \" \".join(val)\n",
        "  except:\n",
        "    print(\"error\")\n",
        "    print(model)\n",
        "    return np.nan"
      ],
      "execution_count": null,
      "outputs": []
    },
    {
      "cell_type": "code",
      "metadata": {
        "id": "Hdb9RJMBXPaW",
        "colab_type": "code",
        "colab": {
          "base_uri": "https://localhost:8080/",
          "height": 54
        },
        "outputId": "21366d7a-ea54-4439-afce-24bd67f2c31c"
      },
      "source": [
        "#data=concated_df[concated_df[\"brand\"]==\"Mahindra\"]\n",
        "#print(data.shape)\n",
        "#print(data[\"model\"].unique())\n",
        "concated_df[\"model\"]=concated_df[\"model\"].apply(split_process)\n",
        "concated_df[\"model\"]=concated_df[\"model\"].apply(numeric_removing)\n",
        "#print((data[\"model\"].unique()))\n",
        "concated_df[\"model\"]=concated_df.apply(process,axis=1)\n",
        "#print((data[\"model\"].unique()))"
      ],
      "execution_count": null,
      "outputs": [
        {
          "output_type": "stream",
          "text": [
            "error\n",
            "SLK\n"
          ],
          "name": "stdout"
        }
      ]
    },
    {
      "cell_type": "code",
      "metadata": {
        "id": "LBOmnySqaVM4",
        "colab_type": "code",
        "colab": {
          "base_uri": "https://localhost:8080/",
          "height": 1000
        },
        "outputId": "de2452f9-d9fe-4a62-bacc-3345faeccf14"
      },
      "source": [
        "for i in concated_df[\"brand\"].unique():\n",
        "  print(i)\n",
        "  data=concated_df[concated_df[\"brand\"]==i]\n",
        "  print((data[\"model\"].unique()))\n",
        "  print(\"---\")"
      ],
      "execution_count": null,
      "outputs": [
        {
          "output_type": "stream",
          "text": [
            "Maruti\n",
            "['Ertiga' 'Ciaz' 'Swift' 'Ritz' 'Sx4' 'Alto' 'Wagon R' 'Baleno'\n",
            " 'Vitara Brezza' 'Eeco' 'Zen' 'Celerio' 'Dzire' 'Ignis' 'Esteem' 'Omni'\n",
            " '800' 'S Cross' 'Gypsy' 'S Presso' 'Grand Vitara' 'Xl6' 'Kizashi' 'Versa'\n",
            " '1000' 'Celerio X' 'Swift Dzire']\n",
            "---\n",
            "Volkswagen\n",
            "['Polo' 'Vento' 'Ameo' 'Jetta' 'Touareg' 'Passat' 'Cross Polo' 'Tiguan']\n",
            "---\n",
            "Hyundai\n",
            "['Santro' 'Grand I10' 'I10' 'Eon' 'I20' 'Creta' 'Verna' 'Xcent' 'Accent'\n",
            " 'Santa Fe' 'Getz' 'Elantra' 'Aura' 'Sonata' 'Venue' 'Tucson' 'I20 Active']\n",
            "---\n",
            "Honda\n",
            "['City' 'Civic' 'Amaze' 'Brio' 'Accord' 'Mobilio' 'Jazz' 'WRV' 'BRV' 'CRV']\n",
            "---\n",
            "Renault\n",
            "['Duster' 'Kwid' 'Pulse' 'Scala' 'Lodgy' 'Fluence' 'Triber' 'Koleos'\n",
            " 'Captur']\n",
            "---\n",
            "Ford\n",
            "['Ecosport' 'Fiesta' 'Figo' 'Classic' 'Endeavour' 'Ikon' 'Freestyle'\n",
            " 'Escort' 'Fusion' 'Aspire']\n",
            "---\n",
            "Tata\n",
            "['Tiago' 'Zest' 'Harrier' 'Indigo' 'Tigor' 'Safari' 'Indica' 'Nexon'\n",
            " 'Manza' 'Nano' 'Sumo' 'Aria' 'Hexa' 'Bolt' 'Altroz' 'Winger' 'Xenon'\n",
            " 'Venture' 'Indicab' 'Tl' 'Magic']\n",
            "---\n",
            "Mitsubishi\n",
            "['Pajero' 'Lancer' 'Outlander' 'Cedia' 'Montero']\n",
            "---\n",
            "Toyota\n",
            "['Etios' 'Fortuner' 'Innova' 'Corolla' 'Camry' 'Qualis' 'Yaris' 'Glanza'\n",
            " 'Land Cruiser' 'Prius' 'Etios Cross']\n",
            "---\n",
            "Mahindra\n",
            "['Scorpio' 'XUV500' 'KUV' 'TUV300' 'MARAZZO' 'Imperio' 'Bolero' 'Quanto'\n",
            " 'Xylo' 'Logan' 'XUV 3OO' 'Thar' 'Verito' 'E2o' 'ALTURAS' 'Maxximo' 'TUV'\n",
            " 'NUVOSPORT' 'Reva' 'JEEP' 'Armada' 'COMMANDER' 'SUPRO' 'Marshal' 'KUV100'\n",
            " 'NuvoSport']\n",
            "---\n",
            "Chevrolet\n",
            "['Cruze' 'Beat' 'Aveo' 'Optra' 'Spark' 'Sail' 'Captiva' 'Enjoy' 'Tavera'\n",
            " 'Trailblazer' 'Forester']\n",
            "---\n",
            "Skoda\n",
            "['Rapid' 'Fabia' 'Octavia' 'Superb' 'Laura' 'Yeti' 'Kodiaq']\n",
            "---\n",
            "Audi\n",
            "['A4' 'Q3' 'Q5' 'A6' 'A3' 'Q7' 'A8L' 'S5' 'A7' 'A5' 'A8' 'RS5']\n",
            "---\n",
            "Bmw\n",
            "['X1' '3 Series' '5 Series' '7 Series' 'X3' 'X5' 'Mini' '1 Series'\n",
            " '6 Series' 'Z4' 'X6']\n",
            "---\n",
            "Jeep\n",
            "['Compass' 'Villys']\n",
            "---\n",
            "Fiat\n",
            "['Grand Punto' 'Palio' 'Linea' 'Punto' 'Avventura' 'Uno' 'Urban Cross'\n",
            " 'Siena' 'Adventure' 'Petra']\n",
            "---\n",
            "Datsun\n",
            "['Go' 'Redi Go' 'Go Plus']\n",
            "---\n",
            "Nissan\n",
            "['Terrano' 'Sunny' 'Micra' 'Teana' 'Kicks' 'Evalia' 'X Trail']\n",
            "---\n",
            "Land Rover\n",
            "['Range Rover' 'Freelander' 'Discovery']\n",
            "---\n",
            "Mercedes Benz\n",
            "['E Class' 'S Class' 'B Class' 'C Class' 'CLA Class' 'M Class' 'A Class'\n",
            " 'GLA Class' nan 'GLE Class' 'GLS Class' 'GLC Class' 'R Class' 'GL Class'\n",
            " 'CLA45 Amg']\n",
            "---\n",
            "Porsche\n",
            "['Cayenne' 'Panamera']\n",
            "---\n",
            "Jaguar\n",
            "['XF' 'XJ' 'XE' 'F' 'F PACE']\n",
            "---\n",
            "Force\n",
            "['Motors' 'One']\n",
            "---\n",
            "Ssangyong\n",
            "['Rexton']\n",
            "---\n",
            "Mg\n",
            "['Hector']\n",
            "---\n",
            "Isuzu\n",
            "['MU 7' 'MU X' 'D Max']\n",
            "---\n",
            "Volvo\n",
            "['V40' 'S60' 'XC90' 'XC60']\n",
            "---\n",
            "Icml\n",
            "['Rhino']\n",
            "---\n",
            "Daewoo\n",
            "['Matiz' 'Cielo']\n",
            "---\n",
            "Kia\n",
            "['Seltos']\n",
            "---\n",
            "Opel\n",
            "['Corsa' 'Astra']\n",
            "---\n",
            "Premier\n",
            "['Padmini' 'Rio']\n",
            "---\n",
            "Hindustan Motors\n",
            "['Ambassador' 'Contessa']\n",
            "---\n",
            "Dc\n",
            "['Avanti']\n",
            "---\n",
            "Ashok leyland\n",
            "['Stile']\n",
            "---\n",
            "Mini\n",
            "['Cooper' 'Cooper Countryman' 'Cooper S']\n",
            "---\n"
          ],
          "name": "stdout"
        }
      ]
    },
    {
      "cell_type": "code",
      "metadata": {
        "id": "GGCO_NCJzlT5",
        "colab_type": "code",
        "colab": {
          "base_uri": "https://localhost:8080/",
          "height": 198
        },
        "outputId": "44115f54-1c9b-4b9c-8a1f-64cf55d3a462"
      },
      "source": [
        "concated_df.head()"
      ],
      "execution_count": null,
      "outputs": [
        {
          "output_type": "execute_result",
          "data": {
            "text/html": [
              "<div>\n",
              "<style scoped>\n",
              "    .dataframe tbody tr th:only-of-type {\n",
              "        vertical-align: middle;\n",
              "    }\n",
              "\n",
              "    .dataframe tbody tr th {\n",
              "        vertical-align: top;\n",
              "    }\n",
              "\n",
              "    .dataframe thead th {\n",
              "        text-align: right;\n",
              "    }\n",
              "</style>\n",
              "<table border=\"1\" class=\"dataframe\">\n",
              "  <thead>\n",
              "    <tr style=\"text-align: right;\">\n",
              "      <th></th>\n",
              "      <th>variant</th>\n",
              "      <th>price</th>\n",
              "      <th>Year</th>\n",
              "      <th>Kms Driven</th>\n",
              "      <th>Fuel Type</th>\n",
              "      <th>Owner</th>\n",
              "      <th>Transmission</th>\n",
              "      <th>city</th>\n",
              "      <th>brand</th>\n",
              "      <th>model</th>\n",
              "    </tr>\n",
              "  </thead>\n",
              "  <tbody>\n",
              "    <tr>\n",
              "      <th>0</th>\n",
              "      <td>Maruti Ertiga ZDI</td>\n",
              "      <td>454,675</td>\n",
              "      <td>2012</td>\n",
              "      <td>98,284</td>\n",
              "      <td>Diesel</td>\n",
              "      <td>First</td>\n",
              "      <td>Manual</td>\n",
              "      <td>delhi-ncr</td>\n",
              "      <td>Maruti</td>\n",
              "      <td>Ertiga</td>\n",
              "    </tr>\n",
              "    <tr>\n",
              "      <th>1</th>\n",
              "      <td>Maruti Ciaz VXI PLUS</td>\n",
              "      <td>658,520</td>\n",
              "      <td>2015</td>\n",
              "      <td>11,600</td>\n",
              "      <td>Petrol</td>\n",
              "      <td>First</td>\n",
              "      <td>Manual</td>\n",
              "      <td>delhi-ncr</td>\n",
              "      <td>Maruti</td>\n",
              "      <td>Ciaz</td>\n",
              "    </tr>\n",
              "    <tr>\n",
              "      <th>2</th>\n",
              "      <td>Maruti Swift VDI</td>\n",
              "      <td>220,366</td>\n",
              "      <td>2011</td>\n",
              "      <td>75,829</td>\n",
              "      <td>Diesel</td>\n",
              "      <td>First</td>\n",
              "      <td>Manual</td>\n",
              "      <td>delhi-ncr</td>\n",
              "      <td>Maruti</td>\n",
              "      <td>Swift</td>\n",
              "    </tr>\n",
              "    <tr>\n",
              "      <th>3</th>\n",
              "      <td>Maruti Ertiga ZDI</td>\n",
              "      <td>454,675</td>\n",
              "      <td>2012</td>\n",
              "      <td>98,284</td>\n",
              "      <td>Diesel</td>\n",
              "      <td>First</td>\n",
              "      <td>Manual</td>\n",
              "      <td>delhi-ncr</td>\n",
              "      <td>Maruti</td>\n",
              "      <td>Ertiga</td>\n",
              "    </tr>\n",
              "    <tr>\n",
              "      <th>4</th>\n",
              "      <td>Maruti Swift Dzire VXI 1.3</td>\n",
              "      <td>257,084</td>\n",
              "      <td>2009</td>\n",
              "      <td>75,753</td>\n",
              "      <td>Petrol</td>\n",
              "      <td>First</td>\n",
              "      <td>Manual</td>\n",
              "      <td>delhi-ncr</td>\n",
              "      <td>Maruti</td>\n",
              "      <td>Swift</td>\n",
              "    </tr>\n",
              "  </tbody>\n",
              "</table>\n",
              "</div>"
            ],
            "text/plain": [
              "                      variant    price  Year  ...       city   brand   model\n",
              "0           Maruti Ertiga ZDI  454,675  2012  ...  delhi-ncr  Maruti  Ertiga\n",
              "1        Maruti Ciaz VXI PLUS  658,520  2015  ...  delhi-ncr  Maruti    Ciaz\n",
              "2            Maruti Swift VDI  220,366  2011  ...  delhi-ncr  Maruti   Swift\n",
              "3           Maruti Ertiga ZDI  454,675  2012  ...  delhi-ncr  Maruti  Ertiga\n",
              "4  Maruti Swift Dzire VXI 1.3  257,084  2009  ...  delhi-ncr  Maruti   Swift\n",
              "\n",
              "[5 rows x 10 columns]"
            ]
          },
          "metadata": {
            "tags": []
          },
          "execution_count": 175
        }
      ]
    },
    {
      "cell_type": "code",
      "metadata": {
        "id": "uUjorKqhYg66",
        "colab_type": "code",
        "colab": {
          "base_uri": "https://localhost:8080/",
          "height": 35
        },
        "outputId": "c91943db-f054-4439-a0ff-cc65eaaaba4a"
      },
      "source": [
        "concated_df.shape"
      ],
      "execution_count": null,
      "outputs": [
        {
          "output_type": "execute_result",
          "data": {
            "text/plain": [
              "(68186, 10)"
            ]
          },
          "metadata": {
            "tags": []
          },
          "execution_count": 176
        }
      ]
    },
    {
      "cell_type": "code",
      "metadata": {
        "id": "Z2Zvf17gY_Ja",
        "colab_type": "code",
        "colab": {}
      },
      "source": [
        "concated_df=concated_df.drop_duplicates()\n",
        "concated_df=concated_df.dropna(subset=[\"model\"])"
      ],
      "execution_count": null,
      "outputs": []
    },
    {
      "cell_type": "code",
      "metadata": {
        "id": "x6toiFwRz8BC",
        "colab_type": "code",
        "colab": {}
      },
      "source": [
        "concated_df[\"Fuel Type\"]=concated_df[\"Fuel Type\"].replace({\"CNGPetrol\":\"Petrol + CNG\"})"
      ],
      "execution_count": null,
      "outputs": []
    },
    {
      "cell_type": "code",
      "metadata": {
        "id": "D5DimcZmz0Cs",
        "colab_type": "code",
        "colab": {
          "base_uri": "https://localhost:8080/",
          "height": 54
        },
        "outputId": "0a264d98-385e-45e2-dba3-f63ce2760481"
      },
      "source": [
        "concated_df[\"Fuel Type\"].unique()"
      ],
      "execution_count": null,
      "outputs": [
        {
          "output_type": "execute_result",
          "data": {
            "text/plain": [
              "array(['Diesel', 'Petrol', 'Petrol + CNG', 'CNG', 'Petrol + LPG',\n",
              "       'Electric', 'LPG', 'Hybrid', nan], dtype=object)"
            ]
          },
          "metadata": {
            "tags": []
          },
          "execution_count": 179
        }
      ]
    },
    {
      "cell_type": "code",
      "metadata": {
        "id": "z1EB05SD0TpH",
        "colab_type": "code",
        "colab": {}
      },
      "source": [
        "concated_df[\"Owner\"]=concated_df[\"Owner\"].replace({'Third':3,'First':1,'Second':2,'Fourth':4,'Sixth':6,'Fifth':5,'Ninth':9,\n",
        "       'Seventh':7,'Tenth':10,'Eighth':8})"
      ],
      "execution_count": null,
      "outputs": []
    },
    {
      "cell_type": "code",
      "metadata": {
        "id": "_nyJAvr20MJ3",
        "colab_type": "code",
        "colab": {
          "base_uri": "https://localhost:8080/",
          "height": 35
        },
        "outputId": "85af5f46-a817-4288-92ee-f8db678050d7"
      },
      "source": [
        "concated_df[\"Owner\"].unique()"
      ],
      "execution_count": null,
      "outputs": [
        {
          "output_type": "execute_result",
          "data": {
            "text/plain": [
              "array([ 1,  2,  3,  4,  5,  6, 10,  7,  8,  9])"
            ]
          },
          "metadata": {
            "tags": []
          },
          "execution_count": 181
        }
      ]
    },
    {
      "cell_type": "code",
      "metadata": {
        "id": "ONOyzhaj0-SM",
        "colab_type": "code",
        "colab": {
          "base_uri": "https://localhost:8080/",
          "height": 35
        },
        "outputId": "60f86835-4024-49bb-953b-9c4c0a2c47ae"
      },
      "source": [
        "concated_df[\"city\"].nunique()"
      ],
      "execution_count": null,
      "outputs": [
        {
          "output_type": "execute_result",
          "data": {
            "text/plain": [
              "289"
            ]
          },
          "metadata": {
            "tags": []
          },
          "execution_count": 182
        }
      ]
    },
    {
      "cell_type": "code",
      "metadata": {
        "id": "xvH59BLL1G_Y",
        "colab_type": "code",
        "colab": {}
      },
      "source": [
        "concated_df[\"city\"]=concated_df[\"city\"].apply(lambda x:x[0].upper()+x[1:].lower())"
      ],
      "execution_count": null,
      "outputs": []
    },
    {
      "cell_type": "code",
      "metadata": {
        "id": "rPRJeiI81eUg",
        "colab_type": "code",
        "colab": {}
      },
      "source": [
        "concated_df.to_csv(\"final.csv\",index=False)"
      ],
      "execution_count": null,
      "outputs": []
    },
    {
      "cell_type": "code",
      "metadata": {
        "id": "ObQUT_ZC1pSz",
        "colab_type": "code",
        "colab": {
          "base_uri": "https://localhost:8080/",
          "height": 17
        },
        "outputId": "519eb491-0ada-4a0b-f625-b54f09803197"
      },
      "source": [
        "from google.colab import files\n",
        "files.download(\"final.csv\") "
      ],
      "execution_count": null,
      "outputs": [
        {
          "output_type": "display_data",
          "data": {
            "application/javascript": [
              "\n",
              "    async function download(id, filename, size) {\n",
              "      if (!google.colab.kernel.accessAllowed) {\n",
              "        return;\n",
              "      }\n",
              "      const div = document.createElement('div');\n",
              "      const label = document.createElement('label');\n",
              "      label.textContent = `Downloading \"${filename}\": `;\n",
              "      div.appendChild(label);\n",
              "      const progress = document.createElement('progress');\n",
              "      progress.max = size;\n",
              "      div.appendChild(progress);\n",
              "      document.body.appendChild(div);\n",
              "\n",
              "      const buffers = [];\n",
              "      let downloaded = 0;\n",
              "\n",
              "      const channel = await google.colab.kernel.comms.open(id);\n",
              "      // Send a message to notify the kernel that we're ready.\n",
              "      channel.send({})\n",
              "\n",
              "      for await (const message of channel.messages) {\n",
              "        // Send a message to notify the kernel that we're ready.\n",
              "        channel.send({})\n",
              "        if (message.buffers) {\n",
              "          for (const buffer of message.buffers) {\n",
              "            buffers.push(buffer);\n",
              "            downloaded += buffer.byteLength;\n",
              "            progress.value = downloaded;\n",
              "          }\n",
              "        }\n",
              "      }\n",
              "      const blob = new Blob(buffers, {type: 'application/binary'});\n",
              "      const a = document.createElement('a');\n",
              "      a.href = window.URL.createObjectURL(blob);\n",
              "      a.download = filename;\n",
              "      div.appendChild(a);\n",
              "      a.click();\n",
              "      div.remove();\n",
              "    }\n",
              "  "
            ],
            "text/plain": [
              "<IPython.core.display.Javascript object>"
            ]
          },
          "metadata": {
            "tags": []
          }
        },
        {
          "output_type": "display_data",
          "data": {
            "application/javascript": [
              "download(\"download_9bf75e75-526b-46db-89f4-b0357e07f970\", \"final.csv\", 5609691)"
            ],
            "text/plain": [
              "<IPython.core.display.Javascript object>"
            ]
          },
          "metadata": {
            "tags": []
          }
        }
      ]
    }
  ]
}