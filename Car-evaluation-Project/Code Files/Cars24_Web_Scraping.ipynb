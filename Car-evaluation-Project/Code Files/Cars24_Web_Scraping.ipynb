{
  "nbformat": 4,
  "nbformat_minor": 0,
  "metadata": {
    "colab": {
      "name": "car24_web_new.ipynb",
      "provenance": []
    },
    "kernelspec": {
      "name": "python3",
      "display_name": "Python 3"
    }
  },
  "cells": [
    {
      "cell_type": "code",
      "metadata": {
        "id": "2_xXZEl4Y1t8",
        "colab_type": "code",
        "colab": {}
      },
      "source": [
        "from bs4 import BeautifulSoup\n",
        "from requests import get\n",
        "import pandas as pd\n",
        "import numpy as np\n",
        "import json\n",
        "from google.colab import files\n",
        "import pickle"
      ],
      "execution_count": null,
      "outputs": []
    },
    {
      "cell_type": "code",
      "metadata": {
        "id": "QCg1JDKVZBTN",
        "colab_type": "code",
        "colab": {}
      },
      "source": [
        "from threading import Thread\n",
        "from multiprocessing import Pool\n",
        "from functools import partial\n",
        "from itertools import repeat\n",
        "from multiprocessing import Pool, freeze_support\n",
        "from time import sleep"
      ],
      "execution_count": null,
      "outputs": []
    },
    {
      "cell_type": "code",
      "metadata": {
        "id": "LPA78ydSvf3T",
        "colab_type": "code",
        "colab": {}
      },
      "source": [
        "cities=[\"Delhi-NCR\",\"Chennai\",\"Bengaluru\",\"Mumbai\",\"Pune\",\"Hyderabad\",\"Ahmedabad\",\"Jaipur\",\"Kolkata\",\"Chandigarh\",\"Mohali\",\"Zirakpur\",\"Udaipur\",\"Ludhiana\",\"Amritsar\",\"Nagpur\",\"Lucknow\",\"Sonipat\",\"Nasik\",\"Surat\",\"Vadodara\",\"Aurangabad\"]"
      ],
      "execution_count": null,
      "outputs": []
    },
    {
      "cell_type": "code",
      "metadata": {
        "id": "Ij-c2xD5Y9hy",
        "colab_type": "code",
        "colab": {}
      },
      "source": [
        "headers={\"User-Agent\":\"Mozilla/5.0 (Windows NT 10.0; Win64; x64) AppleWebKit/537.36 (KHTML, like Gecko) Chrome/74.0.3729.169 Safari/537.36\"}"
      ],
      "execution_count": null,
      "outputs": []
    },
    {
      "cell_type": "code",
      "metadata": {
        "id": "ek0C_UQyZEUl",
        "colab_type": "code",
        "colab": {}
      },
      "source": [
        "def parse_links(links,city):\n",
        "  data=[]\n",
        "  response = get(\"https://www.cars24.com\"+links,headers=headers)\n",
        "  sleep(2)\n",
        "  try:\n",
        "    if response.status_code == 200:\n",
        "      #print(\"ert\")\n",
        "      soup=BeautifulSoup(response.text,\"html.parser\")\n",
        "      data.append(soup.find(\"h1\").text)\n",
        "      a=soup.find(\"div\",attrs={\"class\":\"_3Hvpt\"})\n",
        "      data.append(a.find(\"h2\",attrs={\"class\":\"U35sf\"}).find(\"strong\").text)\n",
        "      a=soup.find(\"ul\",attrs={\"class\":\"_1wIhE\"})\n",
        "      b=a.find_all(\"p\")\n",
        "      l=a.find_all(\"label\")\n",
        "      labels_d={}\n",
        "      for i in range(len(b)):\n",
        "          if l[i].text in [\"Year\",\"Kms Driven\",\"Fuel Type\",\"Owner\",\"Transmission\"]:\n",
        "              labels_d.update({l[i].text:b[i].text})\n",
        "      for i in [\"Year\",\"Kms Driven\",\"Fuel Type\",\"Owner\",\"Transmission\"]:\n",
        "          if i in labels_d.keys():\n",
        "            data.append(labels_d[i])\n",
        "          else:\n",
        "            data.append(np.nan)\n",
        "      data.append(city)\n",
        "      #print(data)\n",
        "  except:\n",
        "      print(\"error\")\n",
        "  return data"
      ],
      "execution_count": null,
      "outputs": []
    },
    {
      "cell_type": "code",
      "metadata": {
        "id": "2q0Q84orx9i2",
        "colab_type": "code",
        "colab": {}
      },
      "source": [
        "cities=[i.lower() for i in cities]"
      ],
      "execution_count": null,
      "outputs": []
    },
    {
      "cell_type": "code",
      "metadata": {
        "id": "A31Qdx3QY7vZ",
        "colab_type": "code",
        "colab": {
          "base_uri": "https://localhost:8080/",
          "height": 1000
        },
        "outputId": "4cdd41a1-c6b2-43fa-e694-5544ed806979"
      },
      "source": [
        "car_name=[]\n",
        "links={i:[] for i in cities}\n",
        "for c in cities:\n",
        "  print(c)\n",
        "  base_url =\"https://www.cars24.com/buy-used-cars-\"+c+\"/\"\n",
        "  response = get(base_url,headers=headers)\n",
        "  soup=BeautifulSoup(response.text,\"html.parser\")\n",
        "  no_of_pages=soup.find(\"div\",attrs={\"class\":\"col-sm-12 col-md-6 col-lg-7 col-xl-8\"}).text\n",
        "  no_of_pages=round(int(no_of_pages.split()[0])/21)\n",
        "  print(no_of_pages)\n",
        "  content=[]\n",
        "  for i in range(1,no_of_pages+1):\n",
        "    response = get(base_url+\"?page=\"+str(i),headers=headers)\n",
        "    soup=BeautifulSoup(response.text,\"html.parser\")\n",
        "    content.extend(soup.find_all(\"div\",attrs={\"class\":\"_1gEgO\"}))\n",
        "  print(\"links-started\")\n",
        "  for j in content:\n",
        "    car_name.append(j.find(\"h3\").text)\n",
        "    links[c].append(j.find(\"a\").get(\"href\"))\n",
        "  print(len(links[c]))\n",
        "  print(links[c][0])"
      ],
      "execution_count": null,
      "outputs": [
        {
          "output_type": "stream",
          "text": [
            "delhi-ncr\n",
            "1391\n",
            "links-started\n",
            "10000\n",
            "/buy-used-Hyundai-Santro-Xing-2005-cars-New-Delhi-1005377985/\n",
            "chennai\n",
            "88\n",
            "links-started\n",
            "1760\n",
            "/buy-used-Maruti-Wagon-R-2012-cars-Chennai-1134632085/\n",
            "bengaluru\n",
            "214\n",
            "links-started\n",
            "4280\n",
            "/buy-used-Maruti-Alto-K10-2012-cars-Bengaluru-1025152488/\n",
            "mumbai\n",
            "256\n",
            "links-started\n",
            "5120\n",
            "/buy-used-Maruti-Alto-2006-cars-Mumbai-1039860485/\n",
            "pune\n",
            "193\n",
            "links-started\n",
            "3860\n",
            "/buy-used-Maruti-Alto-800-2015-cars-Pune-1062242988/\n",
            "hyderabad\n",
            "96\n",
            "links-started\n",
            "1920\n",
            "/buy-used-Volkswagen-Ameo-2019-cars-Hyderabad-1042160789/\n",
            "ahmedabad\n",
            "265\n",
            "links-started\n",
            "5300\n",
            "/buy-used-Hyundai-Grand-i10-2016-cars-Ahmedabad-1141770583/\n",
            "jaipur\n",
            "112\n",
            "links-started\n",
            "2240\n",
            "/buy-used-Hyundai-NEW-SANTRO-2020-cars-Jaipur-1077890885/\n",
            "kolkata\n",
            "92\n",
            "links-started\n",
            "1840\n",
            "/buy-used-Hyundai-Santro-Xing-2008-cars-Kolkata-1197246087/\n",
            "chandigarh\n",
            "194\n",
            "links-started\n",
            "3880\n",
            "/buy-used-Maruti-Baleno-2016-cars-Chandigarh-1160546089/\n",
            "mohali\n",
            "45\n",
            "links-started\n",
            "900\n",
            "/buy-used-Ford-Fiesta-2007-cars-Mohali-1095656589/\n",
            "zirakpur\n",
            "51\n",
            "links-started\n",
            "1020\n",
            "/buy-used-Tata-Zest-2015-cars-Zirakpur-1485830781/\n",
            "udaipur\n",
            "19\n",
            "links-started\n",
            "380\n",
            "/buy-used-Chevrolet-Beat-2011-cars-Udaipur-1186566987/\n",
            "ludhiana\n",
            "92\n",
            "links-started\n",
            "1840\n",
            "/buy-used-Volkswagen-Ameo-2019-cars-Ludhiana-1295714482/\n",
            "amritsar\n",
            "28\n",
            "links-started\n",
            "560\n",
            "/buy-used-Maruti-Baleno-2019-cars-Amritsar-1270810785/\n",
            "nagpur\n",
            "67\n",
            "links-started\n",
            "1340\n",
            "/buy-used-Opel-Corsa-2005-cars-Nagpur-1234080883/\n",
            "lucknow\n",
            "107\n",
            "links-started\n",
            "2140\n",
            "/buy-used-Honda-Amaze-2019-cars-Lucknow-1325070680/\n",
            "sonipat\n",
            "39\n",
            "links-started\n",
            "780\n",
            "/buy-used-Maruti-Ritz-2011-cars-Sonipat-1158832085/\n",
            "nasik\n",
            "47\n",
            "links-started\n",
            "940\n",
            "/buy-used-Tata-Tiago-2019-cars-Nasik-1242400784/\n",
            "surat\n",
            "127\n",
            "links-started\n",
            "2540\n",
            "/buy-used-Renault-Kwid-2016-cars-Surat-1354880386/\n",
            "vadodara\n",
            "89\n",
            "links-started\n",
            "1780\n",
            "/buy-used-Maruti-Ertiga-2012-cars-Vadodara-1364526889/\n",
            "aurangabad\n",
            "45\n",
            "links-started\n",
            "900\n",
            "/buy-used-Honda-City-2005-cars-Aurangabad-1032740182/\n"
          ],
          "name": "stdout"
        }
      ]
    },
    {
      "cell_type": "code",
      "metadata": {
        "id": "R_7CDq4wMw4H",
        "colab_type": "code",
        "colab": {
          "base_uri": "https://localhost:8080/",
          "height": 35
        },
        "outputId": "0bbcd456-2010-4dbc-9e77-60d6ba6714fd"
      },
      "source": [
        "sum=0\n",
        "for i in links.keys():\n",
        "  sum+=len(links[i])\n",
        "print(sum)"
      ],
      "execution_count": null,
      "outputs": [
        {
          "output_type": "stream",
          "text": [
            "55320\n"
          ],
          "name": "stdout"
        }
      ]
    },
    {
      "cell_type": "code",
      "metadata": {
        "id": "ic44WjwWKlxA",
        "colab_type": "code",
        "colab": {
          "base_uri": "https://localhost:8080/",
          "height": 35
        },
        "outputId": "6471a553-e526-4d06-b76f-a7408cba7333"
      },
      "source": [
        "len(car_name)"
      ],
      "execution_count": null,
      "outputs": [
        {
          "output_type": "execute_result",
          "data": {
            "text/plain": [
              "55320"
            ]
          },
          "metadata": {
            "tags": []
          },
          "execution_count": 9
        }
      ]
    },
    {
      "cell_type": "code",
      "metadata": {
        "id": "bWVYBOibKq2Y",
        "colab_type": "code",
        "colab": {
          "base_uri": "https://localhost:8080/",
          "height": 417
        },
        "outputId": "4d8e183b-4990-4d0c-8a31-8b396ab1dec7"
      },
      "source": [
        "cities"
      ],
      "execution_count": null,
      "outputs": [
        {
          "output_type": "execute_result",
          "data": {
            "text/plain": [
              "['delhi-ncr',\n",
              " 'chennai',\n",
              " 'bengaluru',\n",
              " 'mumbai',\n",
              " 'pune',\n",
              " 'hyderabad',\n",
              " 'ahmedabad',\n",
              " 'jaipur',\n",
              " 'kolkata',\n",
              " 'chandigarh',\n",
              " 'mohali',\n",
              " 'zirakpur',\n",
              " 'udaipur',\n",
              " 'ludhiana',\n",
              " 'amritsar',\n",
              " 'nagpur',\n",
              " 'lucknow',\n",
              " 'sonipat',\n",
              " 'nasik',\n",
              " 'surat',\n",
              " 'vadodara',\n",
              " 'aurangabad']"
            ]
          },
          "metadata": {
            "tags": []
          },
          "execution_count": 10
        }
      ]
    },
    {
      "cell_type": "code",
      "metadata": {
        "id": "CIcXXcvbZ--0",
        "colab_type": "code",
        "colab": {}
      },
      "source": [
        "rec=[]\n",
        "for i in list(links.keys())[1:]:\n",
        "  print(i)\n",
        "  with Pool(20) as p:\n",
        "      rec.extend(p.starmap(parse_links,zip(links[i],repeat(i))))"
      ],
      "execution_count": null,
      "outputs": []
    },
    {
      "cell_type": "code",
      "metadata": {
        "id": "yBy1vgf3sWmJ",
        "colab_type": "code",
        "colab": {
          "base_uri": "https://localhost:8080/",
          "height": 381
        },
        "outputId": "35185b2b-25bb-49e7-ecdb-409c31999c9d"
      },
      "source": [
        "pd.DataFrame(rec)[7].value_counts()"
      ],
      "execution_count": null,
      "outputs": [
        {
          "output_type": "execute_result",
          "data": {
            "text/plain": [
              "ahmedabad     5040\n",
              "mumbai        4819\n",
              "pune          3940\n",
              "chandigarh    3680\n",
              "surat         2478\n",
              "jaipur        2158\n",
              "lucknow       2036\n",
              "kolkata       1820\n",
              "hyderabad     1799\n",
              "vadodara      1740\n",
              "ludhiana      1720\n",
              "nagpur        1317\n",
              "aurangabad     940\n",
              "zirakpur       940\n",
              "nasik          940\n",
              "mohali         860\n",
              "sonipat        800\n",
              "amritsar       520\n",
              "udaipur        360\n",
              "Name: 7, dtype: int64"
            ]
          },
          "metadata": {
            "tags": []
          },
          "execution_count": 20
        }
      ]
    },
    {
      "cell_type": "code",
      "metadata": {
        "id": "eD2pjtuwbOKP",
        "colab_type": "code",
        "colab": {
          "base_uri": "https://localhost:8080/",
          "height": 35
        },
        "outputId": "3481f6da-b4fb-460e-c1d3-e36fe9ce6108"
      },
      "source": [
        "len(links[\"delhi-ncr\"]),len(records)"
      ],
      "execution_count": null,
      "outputs": [
        {
          "output_type": "execute_result",
          "data": {
            "text/plain": [
              "(10000, 1600)"
            ]
          },
          "metadata": {
            "tags": []
          },
          "execution_count": 111
        }
      ]
    },
    {
      "cell_type": "code",
      "metadata": {
        "id": "NpraRI4laAOB",
        "colab_type": "code",
        "colab": {}
      },
      "source": [
        "df_car=pd.DataFrame(rec)\n",
        "#df_car[\"Car_name\"]=car_name[:14420]"
      ],
      "execution_count": null,
      "outputs": []
    },
    {
      "cell_type": "code",
      "metadata": {
        "id": "3Yrlpbl2XJGn",
        "colab_type": "code",
        "colab": {}
      },
      "source": [
        "df_car.columns=[\"variant\",\"price\",\"Year\",\"Kms Driven\",\"Fuel Type\",\"Owner\",\"Transmission\",\"city\"]"
      ],
      "execution_count": null,
      "outputs": []
    },
    {
      "cell_type": "code",
      "metadata": {
        "id": "MwolVa4ungjP",
        "colab_type": "code",
        "colab": {}
      },
      "source": [
        "index_to_be_dropped=df_car[df_car[\"variant\"].isnull()].index"
      ],
      "execution_count": null,
      "outputs": []
    },
    {
      "cell_type": "code",
      "metadata": {
        "id": "T27gDuvengtB",
        "colab_type": "code",
        "colab": {}
      },
      "source": [
        "new_df_car=df_car.drop(index=index_to_be_dropped)"
      ],
      "execution_count": null,
      "outputs": []
    },
    {
      "cell_type": "code",
      "metadata": {
        "id": "1u0XOdczoxak",
        "colab_type": "code",
        "colab": {}
      },
      "source": [
        "new_df_car[\"car_name\"]=new_df_car[\"variant\"].apply(lambda x:x.split()[0]+\" \"+x.split()[1])"
      ],
      "execution_count": null,
      "outputs": []
    },
    {
      "cell_type": "code",
      "metadata": {
        "id": "FXYmlFTvo0_Y",
        "colab_type": "code",
        "colab": {
          "base_uri": "https://localhost:8080/",
          "height": 198
        },
        "outputId": "b79f1fd7-af2e-4df6-9a8b-3b7b991ec05f"
      },
      "source": [
        "new_df_car.head()"
      ],
      "execution_count": null,
      "outputs": [
        {
          "output_type": "execute_result",
          "data": {
            "text/html": [
              "<div>\n",
              "<style scoped>\n",
              "    .dataframe tbody tr th:only-of-type {\n",
              "        vertical-align: middle;\n",
              "    }\n",
              "\n",
              "    .dataframe tbody tr th {\n",
              "        vertical-align: top;\n",
              "    }\n",
              "\n",
              "    .dataframe thead th {\n",
              "        text-align: right;\n",
              "    }\n",
              "</style>\n",
              "<table border=\"1\" class=\"dataframe\">\n",
              "  <thead>\n",
              "    <tr style=\"text-align: right;\">\n",
              "      <th></th>\n",
              "      <th>variant</th>\n",
              "      <th>price</th>\n",
              "      <th>Year</th>\n",
              "      <th>Kms Driven</th>\n",
              "      <th>Fuel Type</th>\n",
              "      <th>Owner</th>\n",
              "      <th>Transmission</th>\n",
              "      <th>city</th>\n",
              "      <th>car_name</th>\n",
              "    </tr>\n",
              "  </thead>\n",
              "  <tbody>\n",
              "    <tr>\n",
              "      <th>0</th>\n",
              "      <td>Hyundai i20 ASTA 1.2</td>\n",
              "      <td>160,200</td>\n",
              "      <td>2011</td>\n",
              "      <td>69,830</td>\n",
              "      <td>Petrol + CNG</td>\n",
              "      <td>Third</td>\n",
              "      <td>Manual</td>\n",
              "      <td>mumbai</td>\n",
              "      <td>Hyundai i20</td>\n",
              "    </tr>\n",
              "    <tr>\n",
              "      <th>1</th>\n",
              "      <td>Honda City SV MT PETROL</td>\n",
              "      <td>615,593</td>\n",
              "      <td>2016</td>\n",
              "      <td>39,477</td>\n",
              "      <td>Petrol</td>\n",
              "      <td>First</td>\n",
              "      <td>Manual</td>\n",
              "      <td>mumbai</td>\n",
              "      <td>Honda City</td>\n",
              "    </tr>\n",
              "    <tr>\n",
              "      <th>2</th>\n",
              "      <td>Maruti Wagon R 1.0 LXI CNG</td>\n",
              "      <td>238,882</td>\n",
              "      <td>2011</td>\n",
              "      <td>58,778</td>\n",
              "      <td>Petrol + CNG</td>\n",
              "      <td>First</td>\n",
              "      <td>Manual</td>\n",
              "      <td>mumbai</td>\n",
              "      <td>Maruti Wagon</td>\n",
              "    </tr>\n",
              "    <tr>\n",
              "      <th>3</th>\n",
              "      <td>Ford Ecosport 1.5AMBIENTE TI VCT</td>\n",
              "      <td>487,340</td>\n",
              "      <td>2014</td>\n",
              "      <td>39,496</td>\n",
              "      <td>Petrol</td>\n",
              "      <td>First</td>\n",
              "      <td>Manual</td>\n",
              "      <td>mumbai</td>\n",
              "      <td>Ford Ecosport</td>\n",
              "    </tr>\n",
              "    <tr>\n",
              "      <th>4</th>\n",
              "      <td>Maruti Baleno ALPHA 1.2 K12</td>\n",
              "      <td>611,390</td>\n",
              "      <td>2017</td>\n",
              "      <td>45,694</td>\n",
              "      <td>Petrol</td>\n",
              "      <td>First</td>\n",
              "      <td>Manual</td>\n",
              "      <td>mumbai</td>\n",
              "      <td>Maruti Baleno</td>\n",
              "    </tr>\n",
              "  </tbody>\n",
              "</table>\n",
              "</div>"
            ],
            "text/plain": [
              "                            variant    price  ...    city       car_name\n",
              "0              Hyundai i20 ASTA 1.2  160,200  ...  mumbai    Hyundai i20\n",
              "1           Honda City SV MT PETROL  615,593  ...  mumbai     Honda City\n",
              "2        Maruti Wagon R 1.0 LXI CNG  238,882  ...  mumbai   Maruti Wagon\n",
              "3  Ford Ecosport 1.5AMBIENTE TI VCT  487,340  ...  mumbai  Ford Ecosport\n",
              "4      Maruti Baleno ALPHA 1.2 K12   611,390  ...  mumbai  Maruti Baleno\n",
              "\n",
              "[5 rows x 9 columns]"
            ]
          },
          "metadata": {
            "tags": []
          },
          "execution_count": 51
        }
      ]
    },
    {
      "cell_type": "code",
      "metadata": {
        "id": "I6tXqDSIdjTR",
        "colab_type": "code",
        "colab": {
          "base_uri": "https://localhost:8080/",
          "height": 17
        },
        "outputId": "f05a9c77-e70b-435c-8d3d-873180613b0b"
      },
      "source": [
        "new_df_car.to_csv(\"remaining_cars24.csv\",index=False)\n",
        "files.download(\"remaining_cars24.csv\")"
      ],
      "execution_count": null,
      "outputs": [
        {
          "output_type": "display_data",
          "data": {
            "application/javascript": [
              "\n",
              "    async function download(id, filename, size) {\n",
              "      if (!google.colab.kernel.accessAllowed) {\n",
              "        return;\n",
              "      }\n",
              "      const div = document.createElement('div');\n",
              "      const label = document.createElement('label');\n",
              "      label.textContent = `Downloading \"${filename}\": `;\n",
              "      div.appendChild(label);\n",
              "      const progress = document.createElement('progress');\n",
              "      progress.max = size;\n",
              "      div.appendChild(progress);\n",
              "      document.body.appendChild(div);\n",
              "\n",
              "      const buffers = [];\n",
              "      let downloaded = 0;\n",
              "\n",
              "      const channel = await google.colab.kernel.comms.open(id);\n",
              "      // Send a message to notify the kernel that we're ready.\n",
              "      channel.send({})\n",
              "\n",
              "      for await (const message of channel.messages) {\n",
              "        // Send a message to notify the kernel that we're ready.\n",
              "        channel.send({})\n",
              "        if (message.buffers) {\n",
              "          for (const buffer of message.buffers) {\n",
              "            buffers.push(buffer);\n",
              "            downloaded += buffer.byteLength;\n",
              "            progress.value = downloaded;\n",
              "          }\n",
              "        }\n",
              "      }\n",
              "      const blob = new Blob(buffers, {type: 'application/binary'});\n",
              "      const a = document.createElement('a');\n",
              "      a.href = window.URL.createObjectURL(blob);\n",
              "      a.download = filename;\n",
              "      div.appendChild(a);\n",
              "      a.click();\n",
              "      div.remove();\n",
              "    }\n",
              "  "
            ],
            "text/plain": [
              "<IPython.core.display.Javascript object>"
            ]
          },
          "metadata": {
            "tags": []
          }
        },
        {
          "output_type": "display_data",
          "data": {
            "application/javascript": [
              "download(\"download_56e11e79-bfc3-41f1-aee4-a7a8f2e51107\", \"remaining_cars24.csv\", 3481674)"
            ],
            "text/plain": [
              "<IPython.core.display.Javascript object>"
            ]
          },
          "metadata": {
            "tags": []
          }
        }
      ]
    },
    {
      "cell_type": "code",
      "metadata": {
        "id": "Bigz8MeWdx56",
        "colab_type": "code",
        "colab": {}
      },
      "source": [
        "che=pd.read_csv(\"/content/drive/My Drive/car_project/chennai_24cars.csv\")\n",
        "del_ban=pd.read_csv(\"/content/drive/My Drive/car_project/bangalore_delhi_24cars.csv\")\n",
        "rem=pd.read_csv(\"/content/drive/My Drive/car_project/remaining_cars24.csv\")"
      ],
      "execution_count": null,
      "outputs": []
    },
    {
      "cell_type": "code",
      "metadata": {
        "id": "lZRcKhbOsi1I",
        "colab_type": "code",
        "colab": {
          "base_uri": "https://localhost:8080/",
          "height": 198
        },
        "outputId": "a8fae5c8-85d0-480d-aa8f-cc1118559af7"
      },
      "source": [
        "che.head()"
      ],
      "execution_count": null,
      "outputs": [
        {
          "output_type": "execute_result",
          "data": {
            "text/html": [
              "<div>\n",
              "<style scoped>\n",
              "    .dataframe tbody tr th:only-of-type {\n",
              "        vertical-align: middle;\n",
              "    }\n",
              "\n",
              "    .dataframe tbody tr th {\n",
              "        vertical-align: top;\n",
              "    }\n",
              "\n",
              "    .dataframe thead th {\n",
              "        text-align: right;\n",
              "    }\n",
              "</style>\n",
              "<table border=\"1\" class=\"dataframe\">\n",
              "  <thead>\n",
              "    <tr style=\"text-align: right;\">\n",
              "      <th></th>\n",
              "      <th>variant</th>\n",
              "      <th>price</th>\n",
              "      <th>Year</th>\n",
              "      <th>Kms Driven</th>\n",
              "      <th>Fuel Type</th>\n",
              "      <th>Owner</th>\n",
              "      <th>Transmission</th>\n",
              "      <th>city</th>\n",
              "      <th>car_name</th>\n",
              "    </tr>\n",
              "  </thead>\n",
              "  <tbody>\n",
              "    <tr>\n",
              "      <th>0</th>\n",
              "      <td>Maruti Swift VDI ABS</td>\n",
              "      <td>474,000</td>\n",
              "      <td>2016</td>\n",
              "      <td>74,764</td>\n",
              "      <td>Diesel</td>\n",
              "      <td>First</td>\n",
              "      <td>Manual</td>\n",
              "      <td>Chennai</td>\n",
              "      <td>Maruti Swift</td>\n",
              "    </tr>\n",
              "    <tr>\n",
              "      <th>1</th>\n",
              "      <td>Maruti Celerio VXI</td>\n",
              "      <td>262,000</td>\n",
              "      <td>2014</td>\n",
              "      <td>89,660</td>\n",
              "      <td>Petrol</td>\n",
              "      <td>First</td>\n",
              "      <td>Manual</td>\n",
              "      <td>Chennai</td>\n",
              "      <td>Maruti Celerio</td>\n",
              "    </tr>\n",
              "    <tr>\n",
              "      <th>2</th>\n",
              "      <td>Hyundai i10 SPORTZ 1.2 AT KAPPA2</td>\n",
              "      <td>225,000</td>\n",
              "      <td>2010</td>\n",
              "      <td>73,801</td>\n",
              "      <td>Petrol</td>\n",
              "      <td>First</td>\n",
              "      <td>Automatic</td>\n",
              "      <td>Chennai</td>\n",
              "      <td>Hyundai i10</td>\n",
              "    </tr>\n",
              "    <tr>\n",
              "      <th>3</th>\n",
              "      <td>Nissan Micra XE DIESEL</td>\n",
              "      <td>300,000</td>\n",
              "      <td>2013</td>\n",
              "      <td>72,583</td>\n",
              "      <td>Diesel</td>\n",
              "      <td>Second</td>\n",
              "      <td>Manual</td>\n",
              "      <td>Chennai</td>\n",
              "      <td>Nissan Micra</td>\n",
              "    </tr>\n",
              "    <tr>\n",
              "      <th>4</th>\n",
              "      <td>Fiat Grand Punto ACTIVE 1.3</td>\n",
              "      <td>195,000</td>\n",
              "      <td>2012</td>\n",
              "      <td>63,271</td>\n",
              "      <td>Diesel</td>\n",
              "      <td>Second</td>\n",
              "      <td>Manual</td>\n",
              "      <td>Chennai</td>\n",
              "      <td>Fiat Grand Punto</td>\n",
              "    </tr>\n",
              "  </tbody>\n",
              "</table>\n",
              "</div>"
            ],
            "text/plain": [
              "                            variant    price  ...     city          car_name\n",
              "0              Maruti Swift VDI ABS  474,000  ...  Chennai      Maruti Swift\n",
              "1               Maruti Celerio VXI   262,000  ...  Chennai    Maruti Celerio\n",
              "2  Hyundai i10 SPORTZ 1.2 AT KAPPA2  225,000  ...  Chennai       Hyundai i10\n",
              "3            Nissan Micra XE DIESEL  300,000  ...  Chennai      Nissan Micra\n",
              "4       Fiat Grand Punto ACTIVE 1.3  195,000  ...  Chennai  Fiat Grand Punto\n",
              "\n",
              "[5 rows x 9 columns]"
            ]
          },
          "metadata": {
            "tags": []
          },
          "execution_count": 63
        }
      ]
    },
    {
      "cell_type": "code",
      "metadata": {
        "id": "cqASRdCIsmPl",
        "colab_type": "code",
        "colab": {
          "base_uri": "https://localhost:8080/",
          "height": 198
        },
        "outputId": "beb3b8af-ef50-4d36-ca83-5495b4099b15"
      },
      "source": [
        "del_ban.head()"
      ],
      "execution_count": null,
      "outputs": [
        {
          "output_type": "execute_result",
          "data": {
            "text/html": [
              "<div>\n",
              "<style scoped>\n",
              "    .dataframe tbody tr th:only-of-type {\n",
              "        vertical-align: middle;\n",
              "    }\n",
              "\n",
              "    .dataframe tbody tr th {\n",
              "        vertical-align: top;\n",
              "    }\n",
              "\n",
              "    .dataframe thead th {\n",
              "        text-align: right;\n",
              "    }\n",
              "</style>\n",
              "<table border=\"1\" class=\"dataframe\">\n",
              "  <thead>\n",
              "    <tr style=\"text-align: right;\">\n",
              "      <th></th>\n",
              "      <th>variant</th>\n",
              "      <th>price</th>\n",
              "      <th>Year</th>\n",
              "      <th>Kms Driven</th>\n",
              "      <th>Fuel Type</th>\n",
              "      <th>Owner</th>\n",
              "      <th>Transmission</th>\n",
              "      <th>city</th>\n",
              "      <th>car_name</th>\n",
              "    </tr>\n",
              "  </thead>\n",
              "  <tbody>\n",
              "    <tr>\n",
              "      <th>0</th>\n",
              "      <td>Maruti Ertiga ZDI</td>\n",
              "      <td>454,675</td>\n",
              "      <td>2012</td>\n",
              "      <td>98,284</td>\n",
              "      <td>Diesel</td>\n",
              "      <td>First</td>\n",
              "      <td>Manual</td>\n",
              "      <td>delhi-ncr</td>\n",
              "      <td>Maruti Ertiga</td>\n",
              "    </tr>\n",
              "    <tr>\n",
              "      <th>1</th>\n",
              "      <td>Maruti Ciaz VXI PLUS</td>\n",
              "      <td>658,520</td>\n",
              "      <td>2015</td>\n",
              "      <td>11,600</td>\n",
              "      <td>Petrol</td>\n",
              "      <td>First</td>\n",
              "      <td>Manual</td>\n",
              "      <td>delhi-ncr</td>\n",
              "      <td>Maruti Ciaz</td>\n",
              "    </tr>\n",
              "    <tr>\n",
              "      <th>2</th>\n",
              "      <td>Maruti Swift VDI</td>\n",
              "      <td>220,366</td>\n",
              "      <td>2011</td>\n",
              "      <td>75,829</td>\n",
              "      <td>Diesel</td>\n",
              "      <td>First</td>\n",
              "      <td>Manual</td>\n",
              "      <td>delhi-ncr</td>\n",
              "      <td>Maruti Swift</td>\n",
              "    </tr>\n",
              "    <tr>\n",
              "      <th>3</th>\n",
              "      <td>Maruti Ertiga ZDI</td>\n",
              "      <td>454,675</td>\n",
              "      <td>2012</td>\n",
              "      <td>98,284</td>\n",
              "      <td>Diesel</td>\n",
              "      <td>First</td>\n",
              "      <td>Manual</td>\n",
              "      <td>delhi-ncr</td>\n",
              "      <td>Maruti Ertiga</td>\n",
              "    </tr>\n",
              "    <tr>\n",
              "      <th>4</th>\n",
              "      <td>Maruti Swift Dzire VXI 1.3</td>\n",
              "      <td>257,084</td>\n",
              "      <td>2009</td>\n",
              "      <td>75,753</td>\n",
              "      <td>Petrol</td>\n",
              "      <td>First</td>\n",
              "      <td>Manual</td>\n",
              "      <td>delhi-ncr</td>\n",
              "      <td>Maruti Swift Dzire</td>\n",
              "    </tr>\n",
              "  </tbody>\n",
              "</table>\n",
              "</div>"
            ],
            "text/plain": [
              "                      variant    price  ...       city            car_name\n",
              "0           Maruti Ertiga ZDI  454,675  ...  delhi-ncr       Maruti Ertiga\n",
              "1        Maruti Ciaz VXI PLUS  658,520  ...  delhi-ncr         Maruti Ciaz\n",
              "2            Maruti Swift VDI  220,366  ...  delhi-ncr        Maruti Swift\n",
              "3           Maruti Ertiga ZDI  454,675  ...  delhi-ncr       Maruti Ertiga\n",
              "4  Maruti Swift Dzire VXI 1.3  257,084  ...  delhi-ncr  Maruti Swift Dzire\n",
              "\n",
              "[5 rows x 9 columns]"
            ]
          },
          "metadata": {
            "tags": []
          },
          "execution_count": 64
        }
      ]
    },
    {
      "cell_type": "code",
      "metadata": {
        "id": "cK4qR1wyspur",
        "colab_type": "code",
        "colab": {
          "base_uri": "https://localhost:8080/",
          "height": 198
        },
        "outputId": "02325b2f-c38b-400e-b4c5-8899c04afc8f"
      },
      "source": [
        "rem.head()"
      ],
      "execution_count": null,
      "outputs": [
        {
          "output_type": "execute_result",
          "data": {
            "text/html": [
              "<div>\n",
              "<style scoped>\n",
              "    .dataframe tbody tr th:only-of-type {\n",
              "        vertical-align: middle;\n",
              "    }\n",
              "\n",
              "    .dataframe tbody tr th {\n",
              "        vertical-align: top;\n",
              "    }\n",
              "\n",
              "    .dataframe thead th {\n",
              "        text-align: right;\n",
              "    }\n",
              "</style>\n",
              "<table border=\"1\" class=\"dataframe\">\n",
              "  <thead>\n",
              "    <tr style=\"text-align: right;\">\n",
              "      <th></th>\n",
              "      <th>variant</th>\n",
              "      <th>price</th>\n",
              "      <th>Year</th>\n",
              "      <th>Kms Driven</th>\n",
              "      <th>Fuel Type</th>\n",
              "      <th>Owner</th>\n",
              "      <th>Transmission</th>\n",
              "      <th>city</th>\n",
              "      <th>car_name</th>\n",
              "    </tr>\n",
              "  </thead>\n",
              "  <tbody>\n",
              "    <tr>\n",
              "      <th>0</th>\n",
              "      <td>Hyundai i20 ASTA 1.2</td>\n",
              "      <td>160,200</td>\n",
              "      <td>2011</td>\n",
              "      <td>69,830</td>\n",
              "      <td>Petrol + CNG</td>\n",
              "      <td>Third</td>\n",
              "      <td>Manual</td>\n",
              "      <td>mumbai</td>\n",
              "      <td>Hyundai i20</td>\n",
              "    </tr>\n",
              "    <tr>\n",
              "      <th>1</th>\n",
              "      <td>Honda City SV MT PETROL</td>\n",
              "      <td>615,593</td>\n",
              "      <td>2016</td>\n",
              "      <td>39,477</td>\n",
              "      <td>Petrol</td>\n",
              "      <td>First</td>\n",
              "      <td>Manual</td>\n",
              "      <td>mumbai</td>\n",
              "      <td>Honda City</td>\n",
              "    </tr>\n",
              "    <tr>\n",
              "      <th>2</th>\n",
              "      <td>Maruti Wagon R 1.0 LXI CNG</td>\n",
              "      <td>238,882</td>\n",
              "      <td>2011</td>\n",
              "      <td>58,778</td>\n",
              "      <td>Petrol + CNG</td>\n",
              "      <td>First</td>\n",
              "      <td>Manual</td>\n",
              "      <td>mumbai</td>\n",
              "      <td>Maruti Wagon</td>\n",
              "    </tr>\n",
              "    <tr>\n",
              "      <th>3</th>\n",
              "      <td>Ford Ecosport 1.5AMBIENTE TI VCT</td>\n",
              "      <td>487,340</td>\n",
              "      <td>2014</td>\n",
              "      <td>39,496</td>\n",
              "      <td>Petrol</td>\n",
              "      <td>First</td>\n",
              "      <td>Manual</td>\n",
              "      <td>mumbai</td>\n",
              "      <td>Ford Ecosport</td>\n",
              "    </tr>\n",
              "    <tr>\n",
              "      <th>4</th>\n",
              "      <td>Maruti Baleno ALPHA 1.2 K12</td>\n",
              "      <td>611,390</td>\n",
              "      <td>2017</td>\n",
              "      <td>45,694</td>\n",
              "      <td>Petrol</td>\n",
              "      <td>First</td>\n",
              "      <td>Manual</td>\n",
              "      <td>mumbai</td>\n",
              "      <td>Maruti Baleno</td>\n",
              "    </tr>\n",
              "  </tbody>\n",
              "</table>\n",
              "</div>"
            ],
            "text/plain": [
              "                            variant    price  ...    city       car_name\n",
              "0              Hyundai i20 ASTA 1.2  160,200  ...  mumbai    Hyundai i20\n",
              "1           Honda City SV MT PETROL  615,593  ...  mumbai     Honda City\n",
              "2        Maruti Wagon R 1.0 LXI CNG  238,882  ...  mumbai   Maruti Wagon\n",
              "3  Ford Ecosport 1.5AMBIENTE TI VCT  487,340  ...  mumbai  Ford Ecosport\n",
              "4      Maruti Baleno ALPHA 1.2 K12   611,390  ...  mumbai  Maruti Baleno\n",
              "\n",
              "[5 rows x 9 columns]"
            ]
          },
          "metadata": {
            "tags": []
          },
          "execution_count": 65
        }
      ]
    },
    {
      "cell_type": "code",
      "metadata": {
        "id": "fRFr9B3mszXY",
        "colab_type": "code",
        "colab": {}
      },
      "source": [
        "final_df=pd.concat([che,del_ban,rem])"
      ],
      "execution_count": null,
      "outputs": []
    },
    {
      "cell_type": "code",
      "metadata": {
        "id": "re9b4Kw4tXzB",
        "colab_type": "code",
        "colab": {
          "base_uri": "https://localhost:8080/",
          "height": 35
        },
        "outputId": "59ec603a-e73a-44dd-faf5-36f7f0c8dc2b"
      },
      "source": [
        "new_df_car.to_csv(\"final_cars24.csv\",index=False)\n",
        "files.download(\"final_cars24.csv\")"
      ],
      "execution_count": null,
      "outputs": [
        {
          "output_type": "display_data",
          "data": {
            "application/javascript": [
              "\n",
              "    async function download(id, filename, size) {\n",
              "      if (!google.colab.kernel.accessAllowed) {\n",
              "        return;\n",
              "      }\n",
              "      const div = document.createElement('div');\n",
              "      const label = document.createElement('label');\n",
              "      label.textContent = `Downloading \"${filename}\": `;\n",
              "      div.appendChild(label);\n",
              "      const progress = document.createElement('progress');\n",
              "      progress.max = size;\n",
              "      div.appendChild(progress);\n",
              "      document.body.appendChild(div);\n",
              "\n",
              "      const buffers = [];\n",
              "      let downloaded = 0;\n",
              "\n",
              "      const channel = await google.colab.kernel.comms.open(id);\n",
              "      // Send a message to notify the kernel that we're ready.\n",
              "      channel.send({})\n",
              "\n",
              "      for await (const message of channel.messages) {\n",
              "        // Send a message to notify the kernel that we're ready.\n",
              "        channel.send({})\n",
              "        if (message.buffers) {\n",
              "          for (const buffer of message.buffers) {\n",
              "            buffers.push(buffer);\n",
              "            downloaded += buffer.byteLength;\n",
              "            progress.value = downloaded;\n",
              "          }\n",
              "        }\n",
              "      }\n",
              "      const blob = new Blob(buffers, {type: 'application/binary'});\n",
              "      const a = document.createElement('a');\n",
              "      a.href = window.URL.createObjectURL(blob);\n",
              "      a.download = filename;\n",
              "      div.appendChild(a);\n",
              "      a.click();\n",
              "      div.remove();\n",
              "    }\n",
              "  "
            ],
            "text/plain": [
              "<IPython.core.display.Javascript object>"
            ]
          },
          "metadata": {
            "tags": []
          }
        },
        {
          "output_type": "display_data",
          "data": {
            "application/javascript": [
              "download(\"download_dbfa113f-3b4e-4133-b8ae-b515c8142a2c\", \"final_cars24.csv\", 3481674)"
            ],
            "text/plain": [
              "<IPython.core.display.Javascript object>"
            ]
          },
          "metadata": {
            "tags": []
          }
        }
      ]
    },
    {
      "cell_type": "code",
      "metadata": {
        "id": "LjnvsGnTtg17",
        "colab_type": "code",
        "colab": {}
      },
      "source": [
        ""
      ],
      "execution_count": null,
      "outputs": []
    }
  ]
}