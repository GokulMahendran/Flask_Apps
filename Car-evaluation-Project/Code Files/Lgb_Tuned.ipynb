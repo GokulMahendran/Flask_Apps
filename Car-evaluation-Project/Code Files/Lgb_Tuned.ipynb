{
  "nbformat": 4,
  "nbformat_minor": 0,
  "metadata": {
    "colab": {
      "name": "Lgb_Tuned.ipynb",
      "provenance": []
    },
    "kernelspec": {
      "name": "python3",
      "display_name": "Python 3"
    }
  },
  "cells": [
    {
      "cell_type": "code",
      "metadata": {
        "id": "hJg4VQ5ZKTW5",
        "colab_type": "code",
        "colab": {
          "base_uri": "https://localhost:8080/",
          "height": 217
        },
        "outputId": "d3b1a0f4-da6c-4c72-8e79-44ee373bf3e0"
      },
      "source": [
        "! pip install feature-engine"
      ],
      "execution_count": null,
      "outputs": [
        {
          "output_type": "stream",
          "text": [
            "Requirement already satisfied: feature-engine in /usr/local/lib/python3.6/dist-packages (0.5.1)\n",
            "Requirement already satisfied: statsmodels>=0.11.1 in /usr/local/lib/python3.6/dist-packages (from feature-engine) (0.11.1)\n",
            "Requirement already satisfied: pandas>=1.0.3 in /usr/local/lib/python3.6/dist-packages (from feature-engine) (1.0.5)\n",
            "Requirement already satisfied: scikit-learn>=0.22.2 in /usr/local/lib/python3.6/dist-packages (from feature-engine) (0.22.2.post1)\n",
            "Requirement already satisfied: scipy>=1.4.1 in /usr/local/lib/python3.6/dist-packages (from feature-engine) (1.4.1)\n",
            "Requirement already satisfied: numpy>=1.18.2 in /usr/local/lib/python3.6/dist-packages (from feature-engine) (1.18.5)\n",
            "Requirement already satisfied: patsy>=0.5 in /usr/local/lib/python3.6/dist-packages (from statsmodels>=0.11.1->feature-engine) (0.5.1)\n",
            "Requirement already satisfied: pytz>=2017.2 in /usr/local/lib/python3.6/dist-packages (from pandas>=1.0.3->feature-engine) (2018.9)\n",
            "Requirement already satisfied: python-dateutil>=2.6.1 in /usr/local/lib/python3.6/dist-packages (from pandas>=1.0.3->feature-engine) (2.8.1)\n",
            "Requirement already satisfied: joblib>=0.11 in /usr/local/lib/python3.6/dist-packages (from scikit-learn>=0.22.2->feature-engine) (0.16.0)\n",
            "Requirement already satisfied: six in /usr/local/lib/python3.6/dist-packages (from patsy>=0.5->statsmodels>=0.11.1->feature-engine) (1.15.0)\n"
          ],
          "name": "stdout"
        }
      ]
    },
    {
      "cell_type": "code",
      "metadata": {
        "id": "WTpJwzYA5vW3",
        "colab_type": "code",
        "colab": {}
      },
      "source": [
        "import pandas as pd\n",
        "import numpy as np\n",
        "import matplotlib.pyplot as plt\n",
        "import seaborn as sns\n",
        "from feature_engine import categorical_encoders as ce"
      ],
      "execution_count": null,
      "outputs": []
    },
    {
      "cell_type": "code",
      "metadata": {
        "id": "DNYjRx327oUK",
        "colab_type": "code",
        "colab": {
          "base_uri": "https://localhost:8080/",
          "height": 74
        },
        "outputId": "e31a183a-2c91-41ac-fa19-1b988eeb857f"
      },
      "source": [
        "df=pd.read_csv(\"/content/drive/My Drive/car_project/final.csv\")"
      ],
      "execution_count": null,
      "outputs": [
        {
          "output_type": "stream",
          "text": [
            "/usr/local/lib/python3.6/dist-packages/IPython/core/interactiveshell.py:2718: DtypeWarning: Columns (1,3) have mixed types.Specify dtype option on import or set low_memory=False.\n",
            "  interactivity=interactivity, compiler=compiler, result=result)\n"
          ],
          "name": "stderr"
        }
      ]
    },
    {
      "cell_type": "code",
      "metadata": {
        "id": "WxuJxM7V7yoB",
        "colab_type": "code",
        "colab": {
          "base_uri": "https://localhost:8080/",
          "height": 198
        },
        "outputId": "7fe409f1-307f-44cf-f5d8-b6e8ba84b947"
      },
      "source": [
        "df.head()"
      ],
      "execution_count": null,
      "outputs": [
        {
          "output_type": "execute_result",
          "data": {
            "text/html": [
              "<div>\n",
              "<style scoped>\n",
              "    .dataframe tbody tr th:only-of-type {\n",
              "        vertical-align: middle;\n",
              "    }\n",
              "\n",
              "    .dataframe tbody tr th {\n",
              "        vertical-align: top;\n",
              "    }\n",
              "\n",
              "    .dataframe thead th {\n",
              "        text-align: right;\n",
              "    }\n",
              "</style>\n",
              "<table border=\"1\" class=\"dataframe\">\n",
              "  <thead>\n",
              "    <tr style=\"text-align: right;\">\n",
              "      <th></th>\n",
              "      <th>variant</th>\n",
              "      <th>price</th>\n",
              "      <th>Year</th>\n",
              "      <th>Kms Driven</th>\n",
              "      <th>Fuel Type</th>\n",
              "      <th>Owner</th>\n",
              "      <th>Transmission</th>\n",
              "      <th>city</th>\n",
              "      <th>brand</th>\n",
              "      <th>model</th>\n",
              "    </tr>\n",
              "  </thead>\n",
              "  <tbody>\n",
              "    <tr>\n",
              "      <th>0</th>\n",
              "      <td>Maruti Ertiga ZDI</td>\n",
              "      <td>454,675</td>\n",
              "      <td>2012</td>\n",
              "      <td>98,284</td>\n",
              "      <td>Diesel</td>\n",
              "      <td>1</td>\n",
              "      <td>Manual</td>\n",
              "      <td>Delhi-ncr</td>\n",
              "      <td>Maruti</td>\n",
              "      <td>Ertiga</td>\n",
              "    </tr>\n",
              "    <tr>\n",
              "      <th>1</th>\n",
              "      <td>Maruti Ciaz VXI PLUS</td>\n",
              "      <td>658,520</td>\n",
              "      <td>2015</td>\n",
              "      <td>11,600</td>\n",
              "      <td>Petrol</td>\n",
              "      <td>1</td>\n",
              "      <td>Manual</td>\n",
              "      <td>Delhi-ncr</td>\n",
              "      <td>Maruti</td>\n",
              "      <td>Ciaz</td>\n",
              "    </tr>\n",
              "    <tr>\n",
              "      <th>2</th>\n",
              "      <td>Maruti Swift VDI</td>\n",
              "      <td>220,366</td>\n",
              "      <td>2011</td>\n",
              "      <td>75,829</td>\n",
              "      <td>Diesel</td>\n",
              "      <td>1</td>\n",
              "      <td>Manual</td>\n",
              "      <td>Delhi-ncr</td>\n",
              "      <td>Maruti</td>\n",
              "      <td>Swift</td>\n",
              "    </tr>\n",
              "    <tr>\n",
              "      <th>3</th>\n",
              "      <td>Maruti Swift Dzire VXI 1.3</td>\n",
              "      <td>257,084</td>\n",
              "      <td>2009</td>\n",
              "      <td>75,753</td>\n",
              "      <td>Petrol</td>\n",
              "      <td>1</td>\n",
              "      <td>Manual</td>\n",
              "      <td>Delhi-ncr</td>\n",
              "      <td>Maruti</td>\n",
              "      <td>Swift</td>\n",
              "    </tr>\n",
              "    <tr>\n",
              "      <th>4</th>\n",
              "      <td>Volkswagen Polo COMFORTLINE 1.2L PETROL</td>\n",
              "      <td>385,850</td>\n",
              "      <td>2014</td>\n",
              "      <td>37,171</td>\n",
              "      <td>Petrol</td>\n",
              "      <td>1</td>\n",
              "      <td>Manual</td>\n",
              "      <td>Delhi-ncr</td>\n",
              "      <td>Volkswagen</td>\n",
              "      <td>Polo</td>\n",
              "    </tr>\n",
              "  </tbody>\n",
              "</table>\n",
              "</div>"
            ],
            "text/plain": [
              "                                   variant    price  ...       brand   model\n",
              "0                        Maruti Ertiga ZDI  454,675  ...      Maruti  Ertiga\n",
              "1                     Maruti Ciaz VXI PLUS  658,520  ...      Maruti    Ciaz\n",
              "2                         Maruti Swift VDI  220,366  ...      Maruti   Swift\n",
              "3               Maruti Swift Dzire VXI 1.3  257,084  ...      Maruti   Swift\n",
              "4  Volkswagen Polo COMFORTLINE 1.2L PETROL  385,850  ...  Volkswagen    Polo\n",
              "\n",
              "[5 rows x 10 columns]"
            ]
          },
          "metadata": {
            "tags": []
          },
          "execution_count": 66
        }
      ]
    },
    {
      "cell_type": "code",
      "metadata": {
        "id": "flkj5Fe_Vk0t",
        "colab_type": "code",
        "colab": {
          "base_uri": "https://localhost:8080/",
          "height": 35
        },
        "outputId": "d6768bf9-7bbc-4c31-ef11-fed29fd3d7d1"
      },
      "source": [
        "df.shape"
      ],
      "execution_count": null,
      "outputs": [
        {
          "output_type": "execute_result",
          "data": {
            "text/plain": [
              "(67423, 10)"
            ]
          },
          "metadata": {
            "tags": []
          },
          "execution_count": 67
        }
      ]
    },
    {
      "cell_type": "code",
      "metadata": {
        "id": "L4qIl6At77R2",
        "colab_type": "code",
        "colab": {}
      },
      "source": [
        "df1=df.drop(columns=[\"variant\"])"
      ],
      "execution_count": null,
      "outputs": []
    },
    {
      "cell_type": "code",
      "metadata": {
        "id": "ec6K2B0W8Fwe",
        "colab_type": "code",
        "colab": {}
      },
      "source": [
        "df1[\"Fuel Type\"]=df1[\"Fuel Type\"].fillna(\"Petrol\")\n",
        "df1[\"Transmission\"]=df1[\"Transmission\"].fillna(\"Manual\")\n",
        "df1[\"price\"]=df1[\"price\"].replace(\",\",\"\",regex=True).astype(int)\n",
        "df1[\"Kms Driven\"]=df1[\"Kms Driven\"].replace(\",\",\"\",regex=True).astype(int)\n",
        "df1[\"Year_since_car_bought\"]=2020-df1[\"Year\"]"
      ],
      "execution_count": null,
      "outputs": []
    },
    {
      "cell_type": "code",
      "metadata": {
        "id": "GhMXrBGyVnsL",
        "colab_type": "code",
        "colab": {}
      },
      "source": [
        "d={}\n",
        "brand=sorted(df1[\"brand\"].unique())\n",
        "for i in brand:\n",
        "  models=sorted(df1[df1[\"brand\"]==i][\"model\"].unique())\n",
        "  model_transmission_d={}\n",
        "  for j in models:\n",
        "    Tranmission=sorted(df1[df1[\"model\"]==j][\"Transmission\"].unique())\n",
        "    Fuel=sorted(df1[df1[\"model\"]==j][\"Fuel Type\"].unique())\n",
        "    model_transmission_d.update({j:[Tranmission,Fuel]})\n",
        "  d.update({i:model_transmission_d})"
      ],
      "execution_count": null,
      "outputs": []
    },
    {
      "cell_type": "code",
      "metadata": {
        "id": "rOkh0guLi9-N",
        "colab_type": "code",
        "colab": {}
      },
      "source": [
        "cities_list=sorted(df1[\"city\"].unique().tolist())"
      ],
      "execution_count": null,
      "outputs": []
    },
    {
      "cell_type": "code",
      "metadata": {
        "id": "QEd69N4nd8OL",
        "colab_type": "code",
        "colab": {}
      },
      "source": [
        "X=df1.drop(columns=[\"price\",\"Year\"])\n",
        "y=df1[\"price\"]\n",
        "cols=X.select_dtypes(\"object\").columns.tolist()\n",
        "encoder = ce.OrdinalCategoricalEncoder(encoding_method='ordered',variables=cols)\n",
        "encoder.fit(X, y)\n",
        "train_t= encoder.transform(X)"
      ],
      "execution_count": null,
      "outputs": []
    },
    {
      "cell_type": "code",
      "metadata": {
        "id": "ZEsOphDSP6KS",
        "colab_type": "code",
        "colab": {}
      },
      "source": [
        "from sklearn.model_selection import cross_val_score,KFold,GridSearchCV\n",
        "import lightgbm as lgb"
      ],
      "execution_count": null,
      "outputs": []
    },
    {
      "cell_type": "code",
      "metadata": {
        "id": "m_i37hEzdcFB",
        "colab_type": "code",
        "colab": {}
      },
      "source": [
        "model=lgb.LGBMRegressor()"
      ],
      "execution_count": null,
      "outputs": []
    },
    {
      "cell_type": "code",
      "metadata": {
        "id": "kYGGgfwn83A6",
        "colab_type": "code",
        "colab": {}
      },
      "source": [
        "kfold=KFold(n_splits=10,shuffle=True,random_state=1)\n",
        "results=cross_val_score(estimator=model,X=train_t,y=y,cv=kfold,scoring=\"neg_mean_squared_error\",n_jobs=-1)"
      ],
      "execution_count": null,
      "outputs": []
    },
    {
      "cell_type": "code",
      "metadata": {
        "id": "d_B02vKhd1Y5",
        "colab_type": "code",
        "colab": {}
      },
      "source": [
        "params={}\n",
        "params[\"max_depth\"]=[18]\n",
        "params[\"num_leaves\"]=[61]\n",
        "params[\"colsample_bytree\"]=[1]\n",
        "params[\"subsample\"]=[.9]\n",
        "params[\"min_child_samples\"]=[16]\n",
        "params[\"reg_lambda\"]=[.1]\n",
        "params[\"learning_rate\"]=[.1]\n",
        "params[\"n_estimators\"]=[400]\n",
        "params[\"random_state\"]=[1]"
      ],
      "execution_count": null,
      "outputs": []
    },
    {
      "cell_type": "code",
      "metadata": {
        "id": "dRdwc5nNe6P_",
        "colab_type": "code",
        "colab": {}
      },
      "source": [
        "kfold=KFold(n_splits=5,shuffle=True,random_state=1)\n",
        "grid=GridSearchCV(estimator=model,cv=kfold,param_grid=params,scoring=\"neg_mean_squared_error\",n_jobs=-1,verbose=1)"
      ],
      "execution_count": null,
      "outputs": []
    },
    {
      "cell_type": "code",
      "metadata": {
        "id": "91KofsKKfD6j",
        "colab_type": "code",
        "colab": {
          "base_uri": "https://localhost:8080/",
          "height": 399
        },
        "outputId": "6edc02b8-7947-40f9-b08d-633e3c0d0d90"
      },
      "source": [
        "grid.fit(train_t,y)"
      ],
      "execution_count": null,
      "outputs": [
        {
          "output_type": "stream",
          "text": [
            "Fitting 5 folds for each of 4 candidates, totalling 20 fits\n"
          ],
          "name": "stdout"
        },
        {
          "output_type": "stream",
          "text": [
            "[Parallel(n_jobs=-1)]: Using backend LokyBackend with 2 concurrent workers.\n",
            "[Parallel(n_jobs=-1)]: Done  20 out of  20 | elapsed:   34.4s finished\n"
          ],
          "name": "stderr"
        },
        {
          "output_type": "execute_result",
          "data": {
            "text/plain": [
              "GridSearchCV(cv=KFold(n_splits=5, random_state=1, shuffle=True),\n",
              "             error_score=nan,\n",
              "             estimator=LGBMRegressor(boosting_type='gbdt', class_weight=None,\n",
              "                                     colsample_bytree=1.0,\n",
              "                                     importance_type='split', learning_rate=0.1,\n",
              "                                     max_depth=-1, min_child_samples=20,\n",
              "                                     min_child_weight=0.001, min_split_gain=0.0,\n",
              "                                     n_estimators=100, n_jobs=-1, num_leaves=31,\n",
              "                                     objective=None, random_state=N...\n",
              "                                     subsample_freq=0),\n",
              "             iid='deprecated', n_jobs=-1,\n",
              "             param_grid={'colsample_bytree': [1], 'learning_rate': [0.1],\n",
              "                         'max_depth': [18], 'min_child_samples': [16],\n",
              "                         'n_estimators': [200, 300, 400, 500],\n",
              "                         'num_leaves': [61], 'random_state': [1],\n",
              "                         'reg_lambda': [0.1], 'subsample': [0.9]},\n",
              "             pre_dispatch='2*n_jobs', refit=True, return_train_score=False,\n",
              "             scoring='neg_mean_squared_error', verbose=1)"
            ]
          },
          "metadata": {
            "tags": []
          },
          "execution_count": 96
        }
      ]
    },
    {
      "cell_type": "code",
      "metadata": {
        "id": "wG48rDH5fHnV",
        "colab_type": "code",
        "colab": {}
      },
      "source": [
        "grid_df=pd.DataFrame(data=grid.cv_results_)"
      ],
      "execution_count": null,
      "outputs": []
    },
    {
      "cell_type": "code",
      "metadata": {
        "id": "7cUs_hfWfVcg",
        "colab_type": "code",
        "colab": {}
      },
      "source": [
        "grid_df[\"mean_test_score\"]=abs(grid_df[\"mean_test_score\"])**.5\n",
        "grid_df[\"std_test_score\"]=abs(grid_df[\"std_test_score\"])**.5"
      ],
      "execution_count": null,
      "outputs": []
    },
    {
      "cell_type": "code",
      "metadata": {
        "id": "r-3WRuRUfrqR",
        "colab_type": "code",
        "colab": {
          "base_uri": "https://localhost:8080/",
          "height": 168
        },
        "outputId": "2fa80ec6-ef31-4aaa-83eb-677b18d66052"
      },
      "source": [
        "grid_df[[\"param_n_estimators\",\"mean_test_score\",\"std_test_score\"]].sort_values(by=\"mean_test_score\",ascending=True).head(10)"
      ],
      "execution_count": null,
      "outputs": [
        {
          "output_type": "execute_result",
          "data": {
            "text/html": [
              "<div>\n",
              "<style scoped>\n",
              "    .dataframe tbody tr th:only-of-type {\n",
              "        vertical-align: middle;\n",
              "    }\n",
              "\n",
              "    .dataframe tbody tr th {\n",
              "        vertical-align: top;\n",
              "    }\n",
              "\n",
              "    .dataframe thead th {\n",
              "        text-align: right;\n",
              "    }\n",
              "</style>\n",
              "<table border=\"1\" class=\"dataframe\">\n",
              "  <thead>\n",
              "    <tr style=\"text-align: right;\">\n",
              "      <th></th>\n",
              "      <th>param_n_estimators</th>\n",
              "      <th>mean_test_score</th>\n",
              "      <th>std_test_score</th>\n",
              "    </tr>\n",
              "  </thead>\n",
              "  <tbody>\n",
              "    <tr>\n",
              "      <th>1</th>\n",
              "      <td>300</td>\n",
              "      <td>153134.167748</td>\n",
              "      <td>87359.952932</td>\n",
              "    </tr>\n",
              "    <tr>\n",
              "      <th>2</th>\n",
              "      <td>400</td>\n",
              "      <td>153159.261222</td>\n",
              "      <td>86677.578417</td>\n",
              "    </tr>\n",
              "    <tr>\n",
              "      <th>0</th>\n",
              "      <td>200</td>\n",
              "      <td>153253.406524</td>\n",
              "      <td>88037.435530</td>\n",
              "    </tr>\n",
              "    <tr>\n",
              "      <th>3</th>\n",
              "      <td>500</td>\n",
              "      <td>153493.610550</td>\n",
              "      <td>86106.613971</td>\n",
              "    </tr>\n",
              "  </tbody>\n",
              "</table>\n",
              "</div>"
            ],
            "text/plain": [
              "  param_n_estimators  mean_test_score  std_test_score\n",
              "1                300    153134.167748    87359.952932\n",
              "2                400    153159.261222    86677.578417\n",
              "0                200    153253.406524    88037.435530\n",
              "3                500    153493.610550    86106.613971"
            ]
          },
          "metadata": {
            "tags": []
          },
          "execution_count": 100
        }
      ]
    },
    {
      "cell_type": "code",
      "metadata": {
        "id": "rXlt0hdmgGqp",
        "colab_type": "code",
        "colab": {}
      },
      "source": [
        "params={}\n",
        "params[\"max_depth\"]=18\n",
        "params[\"num_leaves\"]=61\n",
        "params[\"colsample_bytree\"]=1\n",
        "params[\"subsample\"]=.9\n",
        "params[\"min_child_samples\"]=16\n",
        "params[\"reg_lambda\"]=.1\n",
        "params[\"learning_rate\"]=.1\n",
        "params[\"n_estimators\"]=400\n",
        "params[\"random_state\"]=1"
      ],
      "execution_count": null,
      "outputs": []
    },
    {
      "cell_type": "code",
      "metadata": {
        "id": "JryFf2ojbnsZ",
        "colab_type": "code",
        "colab": {
          "base_uri": "https://localhost:8080/",
          "height": 181
        },
        "outputId": "d879a0ce-1932-4cd9-b31d-631bed444ecb"
      },
      "source": [
        "params"
      ],
      "execution_count": null,
      "outputs": [
        {
          "output_type": "execute_result",
          "data": {
            "text/plain": [
              "{'colsample_bytree': 1,\n",
              " 'learning_rate': 0.1,\n",
              " 'max_depth': 18,\n",
              " 'min_child_samples': 16,\n",
              " 'n_estimators': 400,\n",
              " 'num_leaves': 61,\n",
              " 'random_state': 1,\n",
              " 'reg_lambda': 0.1,\n",
              " 'subsample': 0.9}"
            ]
          },
          "metadata": {
            "tags": []
          },
          "execution_count": 103
        }
      ]
    },
    {
      "cell_type": "code",
      "metadata": {
        "id": "S9yx1wYocT7V",
        "colab_type": "code",
        "colab": {}
      },
      "source": [
        "import pickle"
      ],
      "execution_count": null,
      "outputs": []
    },
    {
      "cell_type": "code",
      "metadata": {
        "id": "A0S3UTg1aB_c",
        "colab_type": "code",
        "colab": {
          "base_uri": "https://localhost:8080/",
          "height": 126
        },
        "outputId": "decc8827-39f1-4a2f-83b8-a6fe7523bb42"
      },
      "source": [
        "model=lgb.LGBMRegressor(**params)\n",
        "model.fit(train_t,y)"
      ],
      "execution_count": null,
      "outputs": [
        {
          "output_type": "execute_result",
          "data": {
            "text/plain": [
              "LGBMRegressor(boosting_type='gbdt', class_weight=None, colsample_bytree=1,\n",
              "              importance_type='split', learning_rate=0.1, max_depth=18,\n",
              "              min_child_samples=16, min_child_weight=0.001, min_split_gain=0.0,\n",
              "              n_estimators=400, n_jobs=-1, num_leaves=61, objective=None,\n",
              "              random_state=1, reg_alpha=0.0, reg_lambda=0.1, silent=True,\n",
              "              subsample=0.9, subsample_for_bin=200000, subsample_freq=0)"
            ]
          },
          "metadata": {
            "tags": []
          },
          "execution_count": 152
        }
      ]
    },
    {
      "cell_type": "code",
      "metadata": {
        "id": "HXsuiDovaI50",
        "colab_type": "code",
        "colab": {}
      },
      "source": [
        "filename = 'finalized_model.pkl'\n",
        "pickle.dump(model, open(filename, 'wb'))"
      ],
      "execution_count": null,
      "outputs": []
    },
    {
      "cell_type": "code",
      "metadata": {
        "id": "PyFKMObOo3bn",
        "colab_type": "code",
        "colab": {}
      },
      "source": [
        "filename = 'encoder_category.pkl'\n",
        "pickle.dump(encoder, open(filename, 'wb'))"
      ],
      "execution_count": null,
      "outputs": []
    },
    {
      "cell_type": "code",
      "metadata": {
        "id": "u4F9yKbgdzoB",
        "colab_type": "code",
        "colab": {}
      },
      "source": [
        "filename = 'dict_models.pkl'\n",
        "pickle.dump(d, open(filename, 'wb'))"
      ],
      "execution_count": null,
      "outputs": []
    },
    {
      "cell_type": "code",
      "metadata": {
        "id": "vrgk4HTxjsiu",
        "colab_type": "code",
        "colab": {}
      },
      "source": [
        "filename = 'cities_list.pkl'\n",
        "pickle.dump(cities_list, open(filename, 'wb'))"
      ],
      "execution_count": null,
      "outputs": []
    },
    {
      "cell_type": "code",
      "metadata": {
        "id": "dF7Ts6Y_jyJs",
        "colab_type": "code",
        "colab": {
          "base_uri": "https://localhost:8080/",
          "height": 17
        },
        "outputId": "4d1dfbd6-53da-41ee-ebf3-58b60d141454"
      },
      "source": [
        "files.download(\"cities_list.pkl\")"
      ],
      "execution_count": null,
      "outputs": [
        {
          "output_type": "display_data",
          "data": {
            "application/javascript": [
              "\n",
              "    async function download(id, filename, size) {\n",
              "      if (!google.colab.kernel.accessAllowed) {\n",
              "        return;\n",
              "      }\n",
              "      const div = document.createElement('div');\n",
              "      const label = document.createElement('label');\n",
              "      label.textContent = `Downloading \"${filename}\": `;\n",
              "      div.appendChild(label);\n",
              "      const progress = document.createElement('progress');\n",
              "      progress.max = size;\n",
              "      div.appendChild(progress);\n",
              "      document.body.appendChild(div);\n",
              "\n",
              "      const buffers = [];\n",
              "      let downloaded = 0;\n",
              "\n",
              "      const channel = await google.colab.kernel.comms.open(id);\n",
              "      // Send a message to notify the kernel that we're ready.\n",
              "      channel.send({})\n",
              "\n",
              "      for await (const message of channel.messages) {\n",
              "        // Send a message to notify the kernel that we're ready.\n",
              "        channel.send({})\n",
              "        if (message.buffers) {\n",
              "          for (const buffer of message.buffers) {\n",
              "            buffers.push(buffer);\n",
              "            downloaded += buffer.byteLength;\n",
              "            progress.value = downloaded;\n",
              "          }\n",
              "        }\n",
              "      }\n",
              "      const blob = new Blob(buffers, {type: 'application/binary'});\n",
              "      const a = document.createElement('a');\n",
              "      a.href = window.URL.createObjectURL(blob);\n",
              "      a.download = filename;\n",
              "      div.appendChild(a);\n",
              "      a.click();\n",
              "      div.remove();\n",
              "    }\n",
              "  "
            ],
            "text/plain": [
              "<IPython.core.display.Javascript object>"
            ]
          },
          "metadata": {
            "tags": []
          }
        },
        {
          "output_type": "display_data",
          "data": {
            "application/javascript": [
              "download(\"download_10ece417-2be4-4860-a635-c764fa9c57bf\", \"cities_list.pkl\", 4042)"
            ],
            "text/plain": [
              "<IPython.core.display.Javascript object>"
            ]
          },
          "metadata": {
            "tags": []
          }
        }
      ]
    },
    {
      "cell_type": "code",
      "metadata": {
        "id": "UOaPI7GAaJ6E",
        "colab_type": "code",
        "colab": {}
      },
      "source": [
        "from google.colab import files"
      ],
      "execution_count": null,
      "outputs": []
    },
    {
      "cell_type": "code",
      "metadata": {
        "id": "YGFUdrijcgRP",
        "colab_type": "code",
        "colab": {
          "base_uri": "https://localhost:8080/",
          "height": 17
        },
        "outputId": "978572a3-00b4-49f5-f647-dc77791ae02e"
      },
      "source": [
        "files.download(\"finalized_model.pkl\")"
      ],
      "execution_count": null,
      "outputs": [
        {
          "output_type": "display_data",
          "data": {
            "application/javascript": [
              "\n",
              "    async function download(id, filename, size) {\n",
              "      if (!google.colab.kernel.accessAllowed) {\n",
              "        return;\n",
              "      }\n",
              "      const div = document.createElement('div');\n",
              "      const label = document.createElement('label');\n",
              "      label.textContent = `Downloading \"${filename}\": `;\n",
              "      div.appendChild(label);\n",
              "      const progress = document.createElement('progress');\n",
              "      progress.max = size;\n",
              "      div.appendChild(progress);\n",
              "      document.body.appendChild(div);\n",
              "\n",
              "      const buffers = [];\n",
              "      let downloaded = 0;\n",
              "\n",
              "      const channel = await google.colab.kernel.comms.open(id);\n",
              "      // Send a message to notify the kernel that we're ready.\n",
              "      channel.send({})\n",
              "\n",
              "      for await (const message of channel.messages) {\n",
              "        // Send a message to notify the kernel that we're ready.\n",
              "        channel.send({})\n",
              "        if (message.buffers) {\n",
              "          for (const buffer of message.buffers) {\n",
              "            buffers.push(buffer);\n",
              "            downloaded += buffer.byteLength;\n",
              "            progress.value = downloaded;\n",
              "          }\n",
              "        }\n",
              "      }\n",
              "      const blob = new Blob(buffers, {type: 'application/binary'});\n",
              "      const a = document.createElement('a');\n",
              "      a.href = window.URL.createObjectURL(blob);\n",
              "      a.download = filename;\n",
              "      div.appendChild(a);\n",
              "      a.click();\n",
              "      div.remove();\n",
              "    }\n",
              "  "
            ],
            "text/plain": [
              "<IPython.core.display.Javascript object>"
            ]
          },
          "metadata": {
            "tags": []
          }
        },
        {
          "output_type": "display_data",
          "data": {
            "application/javascript": [
              "download(\"download_a45d4c11-250c-4e55-8520-bd87dbc94493\", \"finalized_model.pkl\", 1927629)"
            ],
            "text/plain": [
              "<IPython.core.display.Javascript object>"
            ]
          },
          "metadata": {
            "tags": []
          }
        }
      ]
    },
    {
      "cell_type": "code",
      "metadata": {
        "id": "XZ720Qq_ozB6",
        "colab_type": "code",
        "colab": {
          "base_uri": "https://localhost:8080/",
          "height": 17
        },
        "outputId": "dfe0ea3e-20cd-43f0-8506-1fa7def90b73"
      },
      "source": [
        "files.download(\"encoder_category.pkl\")"
      ],
      "execution_count": null,
      "outputs": [
        {
          "output_type": "display_data",
          "data": {
            "application/javascript": [
              "\n",
              "    async function download(id, filename, size) {\n",
              "      if (!google.colab.kernel.accessAllowed) {\n",
              "        return;\n",
              "      }\n",
              "      const div = document.createElement('div');\n",
              "      const label = document.createElement('label');\n",
              "      label.textContent = `Downloading \"${filename}\": `;\n",
              "      div.appendChild(label);\n",
              "      const progress = document.createElement('progress');\n",
              "      progress.max = size;\n",
              "      div.appendChild(progress);\n",
              "      document.body.appendChild(div);\n",
              "\n",
              "      const buffers = [];\n",
              "      let downloaded = 0;\n",
              "\n",
              "      const channel = await google.colab.kernel.comms.open(id);\n",
              "      // Send a message to notify the kernel that we're ready.\n",
              "      channel.send({})\n",
              "\n",
              "      for await (const message of channel.messages) {\n",
              "        // Send a message to notify the kernel that we're ready.\n",
              "        channel.send({})\n",
              "        if (message.buffers) {\n",
              "          for (const buffer of message.buffers) {\n",
              "            buffers.push(buffer);\n",
              "            downloaded += buffer.byteLength;\n",
              "            progress.value = downloaded;\n",
              "          }\n",
              "        }\n",
              "      }\n",
              "      const blob = new Blob(buffers, {type: 'application/binary'});\n",
              "      const a = document.createElement('a');\n",
              "      a.href = window.URL.createObjectURL(blob);\n",
              "      a.download = filename;\n",
              "      div.appendChild(a);\n",
              "      a.click();\n",
              "      div.remove();\n",
              "    }\n",
              "  "
            ],
            "text/plain": [
              "<IPython.core.display.Javascript object>"
            ]
          },
          "metadata": {
            "tags": []
          }
        },
        {
          "output_type": "display_data",
          "data": {
            "application/javascript": [
              "download(\"download_6947dc7f-170a-4f6e-9691-35721e43dd19\", \"encoder_category.pkl\", 10355)"
            ],
            "text/plain": [
              "<IPython.core.display.Javascript object>"
            ]
          },
          "metadata": {
            "tags": []
          }
        }
      ]
    },
    {
      "cell_type": "code",
      "metadata": {
        "id": "z1_xXmmGd716",
        "colab_type": "code",
        "colab": {
          "base_uri": "https://localhost:8080/",
          "height": 17
        },
        "outputId": "9f5cbbec-4bd1-42cc-e82b-674cf51d02d3"
      },
      "source": [
        "files.download(\"dict_models.pkl\")"
      ],
      "execution_count": null,
      "outputs": [
        {
          "output_type": "display_data",
          "data": {
            "application/javascript": [
              "\n",
              "    async function download(id, filename, size) {\n",
              "      if (!google.colab.kernel.accessAllowed) {\n",
              "        return;\n",
              "      }\n",
              "      const div = document.createElement('div');\n",
              "      const label = document.createElement('label');\n",
              "      label.textContent = `Downloading \"${filename}\": `;\n",
              "      div.appendChild(label);\n",
              "      const progress = document.createElement('progress');\n",
              "      progress.max = size;\n",
              "      div.appendChild(progress);\n",
              "      document.body.appendChild(div);\n",
              "\n",
              "      const buffers = [];\n",
              "      let downloaded = 0;\n",
              "\n",
              "      const channel = await google.colab.kernel.comms.open(id);\n",
              "      // Send a message to notify the kernel that we're ready.\n",
              "      channel.send({})\n",
              "\n",
              "      for await (const message of channel.messages) {\n",
              "        // Send a message to notify the kernel that we're ready.\n",
              "        channel.send({})\n",
              "        if (message.buffers) {\n",
              "          for (const buffer of message.buffers) {\n",
              "            buffers.push(buffer);\n",
              "            downloaded += buffer.byteLength;\n",
              "            progress.value = downloaded;\n",
              "          }\n",
              "        }\n",
              "      }\n",
              "      const blob = new Blob(buffers, {type: 'application/binary'});\n",
              "      const a = document.createElement('a');\n",
              "      a.href = window.URL.createObjectURL(blob);\n",
              "      a.download = filename;\n",
              "      div.appendChild(a);\n",
              "      a.click();\n",
              "      div.remove();\n",
              "    }\n",
              "  "
            ],
            "text/plain": [
              "<IPython.core.display.Javascript object>"
            ]
          },
          "metadata": {
            "tags": []
          }
        },
        {
          "output_type": "display_data",
          "data": {
            "application/javascript": [
              "download(\"download_afc20ffc-f81a-4061-a227-f6248ebeaa77\", \"dict_models.pkl\", 12202)"
            ],
            "text/plain": [
              "<IPython.core.display.Javascript object>"
            ]
          },
          "metadata": {
            "tags": []
          }
        }
      ]
    }
  ]
}